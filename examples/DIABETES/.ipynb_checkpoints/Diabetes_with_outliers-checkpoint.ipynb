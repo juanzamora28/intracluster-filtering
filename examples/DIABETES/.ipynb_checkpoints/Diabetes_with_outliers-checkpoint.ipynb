{
 "cells": [
  {
   "cell_type": "code",
   "execution_count": 1,
   "metadata": {},
   "outputs": [],
   "source": [
    "import tensorflow as tf\n",
    "from sklearn.preprocessing import OneHotEncoder\n",
    "import numpy as np\n",
    "from sklearn.model_selection import train_test_split\n",
    "from tensorflow.keras.callbacks import EarlyStopping\n",
    "import pandas as pd\n",
    "from sklearn.datasets import load_diabetes\n",
    "from sklearn.preprocessing import StandardScaler\n",
    "import random\n",
    "import sys\n",
    "import matplotlib.pyplot as plt\n",
    "sys.path.append('../../')\n",
    "\n",
    "from dionn import DataSelector"
   ]
  },
  {
   "cell_type": "code",
   "execution_count": 2,
   "metadata": {},
   "outputs": [],
   "source": [
    "# Fijar semillas\n",
    "np.random.seed(42)\n",
    "tf.random.set_seed(42)\n",
    "random.seed(42)"
   ]
  },
  {
   "cell_type": "markdown",
   "metadata": {},
   "source": [
    "# 1. Diabetes dataset\n"
   ]
  },
  {
   "cell_type": "code",
   "execution_count": 3,
   "metadata": {},
   "outputs": [],
   "source": [
    "# Load data\n",
    "data = load_diabetes()\n",
    "X, y = data.data, data.target\n",
    "\n",
    "# Convert labels to categorical format (binary classification: >140 diabetes, <=140 no diabetes)\n",
    "y = (y > 140).astype(int)"
   ]
  },
  {
   "cell_type": "markdown",
   "metadata": {},
   "source": [
    "### Applying SelectKBest"
   ]
  },
  {
   "cell_type": "code",
   "execution_count": 4,
   "metadata": {},
   "outputs": [
    {
     "name": "stdout",
     "output_type": "stream",
     "text": [
      "Indices of the selected features: [2 3 8]\n",
      "Selected features: ['bmi', 'bp', 's5']\n"
     ]
    }
   ],
   "source": [
    "from sklearn.feature_selection import SelectKBest, f_classif\n",
    "\n",
    "# Select the k best features\n",
    "k = 3  # Number of features to select\n",
    "selector = SelectKBest(score_func=f_classif, k=k)\n",
    "X_new = selector.fit_transform(X, y)\n",
    "\n",
    "# Selected features\n",
    "selected_features = selector.get_support(indices=True)\n",
    "print(\"Indices of the selected features:\", selected_features)\n",
    "print(\"Selected features:\", [data.feature_names[i] for i in selected_features])\n"
   ]
  },
  {
   "cell_type": "code",
   "execution_count": 5,
   "metadata": {},
   "outputs": [
    {
     "name": "stdout",
     "output_type": "stream",
     "text": [
      "Shape of X_train: (353, 3)\n",
      "Shape of y_train: (353, 2)\n",
      "Shape of X_test: (89, 3)\n",
      "Shape of y_test: (89, 2)\n"
     ]
    }
   ],
   "source": [
    "# Normalize the features\n",
    "scaler = StandardScaler()\n",
    "X = scaler.fit_transform(X_new)\n",
    "\n",
    "# Split into train and test\n",
    "X_train, X_val, y_train, y_val = train_test_split(X, y, test_size=0.2, random_state=42)\n",
    "\n",
    "# OneHot encoding\n",
    "enc = OneHotEncoder(sparse_output=False)\n",
    "y_train_encoded = enc.fit_transform(y_train.reshape(-1, 1))\n",
    "y_val_encoded = enc.transform(y_val.reshape(-1, 1))\n",
    "\n",
    "print(\"Shape of X_train:\", X_train.shape)\n",
    "print(\"Shape of y_train:\", y_train_encoded.shape)\n",
    "print(\"Shape of X_test:\", X_val.shape)\n",
    "print(\"Shape of y_test:\", y_val_encoded.shape)"
   ]
  },
  {
   "cell_type": "markdown",
   "metadata": {},
   "source": [
    "## 2. Model"
   ]
  },
  {
   "cell_type": "code",
   "execution_count": 6,
   "metadata": {},
   "outputs": [],
   "source": [
    "# Create the model\n",
    "class CustomModel(tf.keras.Model):\n",
    "    def __init__(self, D_in, H1, H2, H3, D_out):\n",
    "        super(CustomModel, self).__init__()\n",
    "        self.cl1 = tf.keras.layers.Dense(H1, activation='relu', input_shape=(D_in,))\n",
    "        self.cl2 = tf.keras.layers.Dense(H1, activation='relu')\n",
    "        self.cl3 = tf.keras.layers.Dense(H2, activation='relu')\n",
    "        self.cl4 = tf.keras.layers.Dense(H3, activation='relu')\n",
    "        self.fc1 = tf.keras.layers.Dense(D_out, activation='softmax')\n",
    "\n",
    "    def call(self, inputs):\n",
    "        x = self.cl1(inputs)\n",
    "        x = self.cl2(x)\n",
    "        x = self.cl3(x)\n",
    "        x = self.cl4(x)\n",
    "        x = self.fc1(x)\n",
    "        return x\n",
    "\n",
    "    def inspector_out(self, inputs):\n",
    "        x = self.cl1(inputs)\n",
    "        x = self.cl2(x)\n",
    "        x = self.cl3(x)  \n",
    "        return x\n",
    "    "
   ]
  },
  {
   "cell_type": "code",
   "execution_count": 7,
   "metadata": {},
   "outputs": [],
   "source": [
    "# Instantiate the model\n",
    "model_dia = CustomModel(10, 30, 30, 30, 2)"
   ]
  },
  {
   "cell_type": "markdown",
   "metadata": {},
   "source": [
    "## 3. First training phase: without filtering"
   ]
  },
  {
   "cell_type": "code",
   "execution_count": 8,
   "metadata": {},
   "outputs": [
    {
     "name": "stdout",
     "output_type": "stream",
     "text": [
      "Restoring model weights from the end of the best epoch: 6.\n",
      "Epoch 36: early stopping\n"
     ]
    },
    {
     "data": {
      "text/plain": [
       "<keras.callbacks.History at 0x2aa0c116a40>"
      ]
     },
     "execution_count": 8,
     "metadata": {},
     "output_type": "execute_result"
    }
   ],
   "source": [
    "# Training configuration\n",
    "learning_rate = 0.001\n",
    "adam_optimizer = tf.keras.optimizers.legacy.Adam(learning_rate=learning_rate)\n",
    "model_dia.compile(optimizer=adam_optimizer, loss='binary_crossentropy', metrics=['accuracy'])\n",
    "\n",
    "# Early Stopping\n",
    "early_stopping = EarlyStopping(monitor='val_accuracy',      \n",
    "                               patience=30,                 \n",
    "                               verbose=1,                  \n",
    "                               mode='max',                  \n",
    "                               restore_best_weights=True)   \n",
    "\n",
    "# Training\n",
    "model_dia.fit(X_train, y_train_encoded, epochs=3000, batch_size=100, verbose = 0, validation_data=(X_val, y_val_encoded), callbacks=[early_stopping])"
   ]
  },
  {
   "cell_type": "markdown",
   "metadata": {},
   "source": [
    "### Results"
   ]
  },
  {
   "cell_type": "code",
   "execution_count": 9,
   "metadata": {},
   "outputs": [
    {
     "data": {
      "image/png": "[encoded data removed]",
      "text/plain": [
       "<Figure size 1000x400 with 2 Axes>"
      ]
     },
     "metadata": {},
     "output_type": "display_data"
    }
   ],
   "source": [
    "# Loss function graph and accuracy graph\n",
    "plt.figure(figsize=(10, 4))\n",
    "\n",
    "# Loss graph\n",
    "plt.subplot(1, 2, 1)\n",
    "plt.plot(model_dia.history.history['loss'], label='loss')\n",
    "plt.plot(model_dia.history.history['val_loss'], label='val_loss')\n",
    "plt.xlabel('Epochs')\n",
    "plt.ylabel('Loss')\n",
    "plt.yscale('log')\n",
    "plt.legend()\n",
    "\n",
    "# Accuracy graph \n",
    "plt.subplot(1, 2, 2)\n",
    "plt.plot(model_dia.history.history['accuracy'], label='accuracy')\n",
    "plt.plot(model_dia.history.history['val_accuracy'], label='val_accuracy')\n",
    "plt.xlabel('Epochs')\n",
    "plt.ylabel('Accuracy')\n",
    "plt.legend()\n",
    "\n",
    "plt.show()\n"
   ]
  },
  {
   "cell_type": "code",
   "execution_count": 10,
   "metadata": {},
   "outputs": [
    {
     "name": "stdout",
     "output_type": "stream",
     "text": [
      "Train loss: 0.5814181566238403\n",
      "Train accuracy: 0.7478753328323364\n",
      "Validation loss: 0.5954299569129944\n",
      "Validation accuracy: 0.7865168452262878\n"
     ]
    }
   ],
   "source": [
    "# Evaluation for the best weights for the model\n",
    "loss_train, accuracy_train = model_dia.evaluate(X_train, y_train_encoded, verbose=0)\n",
    "loss_val, accuracy_val = model_dia.evaluate(X_val, y_val_encoded, verbose=0)\n",
    "print(f\"Train loss: {loss_train}\")\n",
    "print(f\"Train accuracy: {accuracy_train}\")\n",
    "print(f\"Validation loss: {loss_val}\")\n",
    "print(f\"Validation accuracy: {accuracy_val}\")"
   ]
  },
  {
   "cell_type": "markdown",
   "metadata": {},
   "source": [
    "## 4. Second training phase: with filtering"
   ]
  },
  {
   "cell_type": "code",
   "execution_count": 11,
   "metadata": {},
   "outputs": [],
   "source": [
    "epochs = 20                    # Number of epochs\n",
    "epoch_init_filter = 1          # Epoch at which the filter starts\n",
    "update_period_in_epochs = 5    # Update period in epochs"
   ]
  },
  {
   "cell_type": "code",
   "execution_count": 12,
   "metadata": {},
   "outputs": [],
   "source": [
    "# Instantiate data selector\n",
    "data_selector = DataSelector(X_train, y_train_encoded, epoch_init_filter , update_period_in_epochs, filter_percentile=0.05, random_state=280296, train_with_outliers=True)"
   ]
  },
  {
   "cell_type": "code",
   "execution_count": 13,
   "metadata": {},
   "outputs": [],
   "source": [
    "from tensorflow.keras.callbacks import ModelCheckpoint\n",
    "\n",
    "# Set up the callback to save the best weights\n",
    "checkpoint_filepath = 'model_checkpoint_2.weights.h5'\n",
    "model_checkpoint_callback = ModelCheckpoint(\n",
    "    filepath=checkpoint_filepath,\n",
    "    save_weights_only=True,\n",
    "    monitor='val_accuracy',\n",
    "    mode='max',\n",
    "    save_best_only=True,\n",
    "    verbose=0)"
   ]
  },
  {
   "cell_type": "code",
   "execution_count": 14,
   "metadata": {},
   "outputs": [
    {
     "name": "stdout",
     "output_type": "stream",
     "text": [
      "Epoch: 1\n",
      "PCA done: retained 95.0% of the variance with 3 components\n",
      "Size of the training set: 353\n",
      "All classes have just one cluster associated\n",
      "Number of probabilities below the threshold 0.0 for the actual class 0:  0\n",
      "Number of probabilities below the threshold 0.0 for the actual class 1:  0\n",
      "Remove data: []\n",
      "Data has been filtered\n",
      "Size of data removed: 0\n",
      "No data to remove for outliers, using previous filtered dataset\n",
      "Epoch: 2\n",
      "Epoch: 3\n",
      "Epoch: 4\n",
      "Epoch: 5\n",
      "Epoch: 6\n",
      "PCA done: retained 95.0% of the variance with 3 components\n",
      "Size of the training set: 353\n",
      "All classes have just one cluster associated\n",
      "Number of probabilities below the threshold 0.0 for the actual class 0:  0\n",
      "Number of probabilities below the threshold 0.0 for the actual class 1:  0\n",
      "Remove data: []\n",
      "Data has been filtered\n",
      "Size of data removed: 0\n",
      "No data to remove for outliers, using previous filtered dataset\n",
      "Epoch: 7\n",
      "Epoch: 8\n",
      "Epoch: 9\n",
      "Epoch: 10\n",
      "Epoch: 11\n",
      "PCA done: retained 95.0% of the variance with 3 components\n",
      "Size of the training set: 353\n",
      "All classes have just one cluster associated\n",
      "Number of probabilities below the threshold 0.0 for the actual class 0:  0\n",
      "Number of probabilities below the threshold 0.0 for the actual class 1:  0\n",
      "Remove data: []\n",
      "Data has been filtered\n",
      "Size of data removed: 0\n",
      "No data to remove for outliers, using previous filtered dataset\n",
      "Epoch: 12\n",
      "Epoch: 13\n",
      "Epoch: 14\n",
      "Epoch: 15\n",
      "Epoch: 16\n",
      "PCA done: retained 95.0% of the variance with 3 components\n",
      "Size of the training set: 353\n",
      "All classes have just one cluster associated\n",
      "Number of probabilities below the threshold 0.0 for the actual class 0:  0\n",
      "Number of probabilities below the threshold 0.0 for the actual class 1:  0\n",
      "Remove data: []\n",
      "Data has been filtered\n",
      "Size of data removed: 0\n",
      "No data to remove for outliers, using previous filtered dataset\n",
      "Epoch: 17\n",
      "Epoch: 18\n",
      "Epoch: 19\n",
      "Epoch: 20\n"
     ]
    }
   ],
   "source": [
    "# Dictionary to store the training information\n",
    "train_info = {\n",
    "    'train_losses': [],\n",
    "    'val_losses': [],\n",
    "    'train_accuracies': [],\n",
    "    'val_accuracies': []\n",
    "}\n",
    "\n",
    "X_clusterized = {}\n",
    "x_index_filter = {}\n",
    "index_original = {}\n",
    "epochs_succ_filt = []\n",
    "\n",
    "x_index_filter_aux = []\n",
    "\n",
    "# Training loop\n",
    "for epoch in range(epochs):\n",
    "    # Get filtered training sets\n",
    "    X_tr_aux, y_tr_aux, index_original_aux, x_index_aux, cluster_aux = data_selector.get_train_data(epoch=epoch, model=model_dia, outs_posibilities=list(np.unique(y_train)), explained_variance = 0.95)\n",
    "    if not x_index_filter_aux == x_index_aux:\n",
    "        X_clusterized[epoch] = cluster_aux\n",
    "        index_original[epoch] = index_original_aux\n",
    "        x_index_filter[epoch] = list(set(x_index_aux).difference(set(x_index_filter_aux)))\n",
    "        x_index_filter_aux[:] = x_index_aux[:]\n",
    "        epochs_succ_filt.append(epoch)\n",
    "\n",
    "        if (X_tr_aux.shape[0] < np.sum([np.prod(w.shape) for w in model_iris.trainable_weights])):\n",
    "            print(\"Warning. The sample size is smaller than the number of parameters in the network. Training with intraclass-outliers is not recommended.\")\n",
    "            break\n",
    "    # Fit the model\n",
    "    history = model_dia.fit(X_tr_aux, y_tr_aux, epochs=1, batch_size=100, verbose=0, validation_data=(X_val, y_val_encoded), callbacks=[model_checkpoint_callback] )\n",
    "\n",
    "    # Store the training information\n",
    "    train_info['train_losses'].append(history.history['loss'])\n",
    "    train_info['val_losses'].append(history.history['val_loss'])\n",
    "    train_info['train_accuracies'].append(history.history['accuracy'])\n",
    "    train_info['val_accuracies'].append(history.history['val_accuracy'])\n",
    "\n",
    "    print(f\"Epoch: {epoch+1}\")"
   ]
  },
  {
   "cell_type": "code",
   "execution_count": 15,
   "metadata": {},
   "outputs": [
    {
     "name": "stdout",
     "output_type": "stream",
     "text": [
      "Initial training set size: 353\n",
      "Final training set size: 353\n"
     ]
    }
   ],
   "source": [
    "# Index for all detected IO\n",
    "index_filter = [item for sublist in x_index_filter.values() for item in sublist]\n",
    "\n",
    "print(f'Initial training set size: {X_train.shape[0]}')\n",
    "print(f'Final training set size: {X_tr_aux.shape[0]}')"
   ]
  },
  {
   "cell_type": "markdown",
   "metadata": {},
   "source": [
    "### Results"
   ]
  },
  {
   "cell_type": "code",
   "execution_count": 16,
   "metadata": {},
   "outputs": [
    {
     "data": {
      "image/png": "[encoded data removed]",
      "text/plain": [
       "<Figure size 1000x400 with 2 Axes>"
      ]
     },
     "metadata": {},
     "output_type": "display_data"
    }
   ],
   "source": [
    "# Plot training and validation lossn\n",
    "plt.figure(figsize=(10, 4))\n",
    "plt.subplot(1, 2, 1)\n",
    "plt.plot(train_info['train_losses'], label='Training Loss')\n",
    "plt.plot(train_info['val_losses'], label='Validation Loss')\n",
    "plt.axvline(x=epoch_init_filter, color='r', linestyle='--', label='Filter applied')\n",
    "for i in range(epoch_init_filter, epochs + 1, update_period_in_epochs):\n",
    "    plt.axvline(x=i, color='r', linestyle='--', alpha=0.3)  \n",
    "plt.title('Training and Validation Loss')\n",
    "plt.xlabel('Epoch')\n",
    "plt.yscale('log')\n",
    "plt.ylabel('Loss')\n",
    "plt.legend()\n",
    "\n",
    "# Plot training and validation accuracy\n",
    "plt.subplot(1, 2, 2)\n",
    "plt.plot(train_info['train_accuracies'], label='Training Accuracy')\n",
    "plt.plot(train_info['val_accuracies'], label='Validation Accuracy')\n",
    "plt.axvline(x=epoch_init_filter, color='r', linestyle='--', label='Filter applied')\n",
    "for i in range(epoch_init_filter, epochs + 1, update_period_in_epochs):\n",
    "    plt.axvline(x=i, color='r', linestyle='--', alpha=0.3)  \n",
    "plt.title('Training and Validation Accuracy')\n",
    "plt.xlabel('Epoch')\n",
    "plt.ylabel('Accuracy')\n",
    "plt.legend()\n",
    "\n",
    "plt.tight_layout()\n",
    "plt.show()"
   ]
  },
  {
   "cell_type": "code",
   "execution_count": 17,
   "metadata": {},
   "outputs": [
    {
     "name": "stdout",
     "output_type": "stream",
     "text": [
      "Training loss: 0.5777955651283264\n",
      "Training accuracy: 0.7507082223892212\n",
      "Validation loss: 0.5910764932632446\n",
      "Validation accuracy: 0.7752808928489685\n"
     ]
    }
   ],
   "source": [
    "# Load best weights\n",
    "model_dia.load_weights(checkpoint_filepath)\n",
    "\n",
    "# Evaluation Accuracy\n",
    "loss_train, accuracy_train = model_dia.evaluate(X_tr_aux, y_tr_aux, verbose=0)\n",
    "loss_val, accuracy_val = model_dia.evaluate(X_val, y_val_encoded, verbose=0)\n",
    "print(f\"Training loss: {loss_train}\")\n",
    "print(f\"Training accuracy: {accuracy_train}\")\n",
    "print(f\"Validation loss: {loss_val}\")\n",
    "print(f\"Validation accuracy: {accuracy_val}\")"
   ]
  },
  {
   "cell_type": "markdown",
   "metadata": {},
   "source": [
    "## 5. Outliers Visualization"
   ]
  },
  {
   "cell_type": "markdown",
   "metadata": {},
   "source": [
    "### Visualization with two PCA components"
   ]
  },
  {
   "cell_type": "code",
   "execution_count": 18,
   "metadata": {},
   "outputs": [
    {
     "data": {
      "image/png": "[encoded data removed]",
      "text/plain": [
       "<Figure size 1000x600 with 1 Axes>"
      ]
     },
     "metadata": {},
     "output_type": "display_data"
    }
   ],
   "source": [
    "from sklearn.decomposition import PCA\n",
    "import seaborn as sns\n",
    "\n",
    "# Apply PCA to reduce dimensionality to 2 components for visualization\n",
    "pca = PCA(n_components=2)\n",
    "X_pca = pca.fit_transform(X_train)\n",
    "\n",
    "# DataFrame with the transformed data and labels\n",
    "df_pca = pd.DataFrame(X_pca, columns=['PCA1', 'PCA2'])\n",
    "df_pca['class'] = y_train_encoded.argmax(axis=1)\n",
    "\n",
    "# Scatter plot of the original dataset\n",
    "plt.figure(figsize=(10, 6))\n",
    "# Highlight the points that were filtered (detected outliers)\n",
    "for epoch in epochs_succ_filt:\n",
    "    for (x, y) in X_pca[x_index_filter[epoch]]:\n",
    "        plt.scatter(x, y, color='none', s=200, label=None, edgecolor='red', alpha=0.7)\n",
    "        plt.text(x, y, f'Epoch {epoch}', fontsize=6, color='black', ha='left', va='top')\n",
    "        \n",
    "# Scatter plot of the original dataset\n",
    "sns.scatterplot(data=df_pca, x='PCA1', y='PCA2', hue='class', palette='viridis', s=100, alpha=0.7)\n",
    "\n",
    "plt.xlabel('PCA Component 1')\n",
    "plt.ylabel('PCA Component 2')\n",
    "plt.title('PCA for original training data with intraclass-outliers detected')\n",
    "plt.legend()\n",
    "plt.grid(True)\n",
    "\n",
    "\n",
    "plt.show()"
   ]
  },
  {
   "cell_type": "markdown",
   "metadata": {},
   "source": [
    "### Visualization with three PCA components"
   ]
  },
  {
   "cell_type": "code",
   "execution_count": 20,
   "metadata": {},
   "outputs": [
    {
     "data": {
      "application/vnd.plotly.v1+json": {
       "config": {
        "plotlyServerURL": "https://plot.ly"
       },
       "data": [
        {
         "hovertemplate": "PCA1=%{x}<br>PCA2=%{y}<br>PCA3=%{z}<br>Diabetes=%{marker.color}<extra></extra>",
         "legendgroup": "",
         "marker": {
          "color": [
           1,
           1,
           1,
           0,
           0,
           0,
           1,
           1,
           1,
           0,
           0,
           1,
           0,
           1,
           0,
           1,
           0,
           0,
           0,
           1,
           0,
           0,
           1,
           1,
           1,
           1,
           1,
           0,
           0,
           0,
           1,
           0,
           0,
           0,
           1,
           0,
           1,
           1,
           0,
           1,
           0,
           0,
           0,
           1,
           1,
           1,
           1,
           1,
           1,
           0,
           1,
           0,
           0,
           1,
           0,
           1,
           1,
           1,
           1,
           0,
           0,
           0,
           1,
           1,
           1,
           0,
           0,
           1,
           0,
           1,
           0,
           1,
           0,
           0,
           1,
           0,
           1,
           1,
           0,
           0,
           0,
           0,
           0,
           1,
           1,
           1,
           1,
           1,
           1,
           1,
           1,
           0,
           1,
           1,
           0,
           1,
           0,
           0,
           1,
           1,
           1,
           0,
           0,
           1,
           0,
           1,
           0,
           1,
           0,
           1,
           1,
           0,
           1,
           0,
           0,
           0,
           0,
           0,
           0,
           0,
           1,
           0,
           0,
           1,
           0,
           0,
           1,
           1,
           0,
           0,
           1,
           0,
           1,
           1,
           1,
           1,
           1,
           1,
           1,
           1,
           1,
           0,
           0,
           1,
           1,
           1,
           0,
           0,
           1,
           1,
           1,
           1,
           1,
           0,
           1,
           1,
           0,
           1,
           1,
           1,
           1,
           0,
           0,
           0,
           1,
           1,
           1,
           1,
           1,
           1,
           1,
           0,
           0,
           1,
           1,
           0,
           0,
           0,
           1,
           0,
           0,
           0,
           1,
           1,
           1,
           0,
           0,
           0,
           0,
           1,
           1,
           0,
           0,
           1,
           1,
           0,
           1,
           1,
           1,
           0,
           0,
           1,
           1,
           0,
           0,
           0,
           1,
           0,
           1,
           0,
           1,
           1,
           1,
           1,
           1,
           0,
           0,
           1,
           1,
           1,
           1,
           0,
           0,
           1,
           0,
           0,
           0,
           1,
           0,
           0,
           0,
           0,
           1,
           1,
           1,
           1,
           0,
           1,
           1,
           0,
           0,
           1,
           0,
           0,
           1,
           1,
           1,
           0,
           1,
           0,
           0,
           0,
           0,
           1,
           0,
           0,
           0,
           1,
           1,
           1,
           1,
           0,
           0,
           0,
           1,
           0,
           0,
           1,
           1,
           0,
           1,
           1,
           1,
           0,
           0,
           1,
           0,
           1,
           1,
           1,
           0,
           0,
           0,
           0,
           0,
           1,
           1,
           0,
           0,
           0,
           1,
           1,
           0,
           0,
           0,
           1,
           1,
           1,
           0,
           0,
           1,
           1,
           0,
           0,
           0,
           0,
           0,
           0,
           1,
           0,
           1,
           0,
           1,
           1,
           0,
           0,
           1,
           1,
           1,
           0,
           1,
           0,
           0,
           0,
           1,
           0,
           1,
           1,
           1,
           1,
           0,
           0,
           0,
           0,
           0,
           1,
           0,
           1,
           0,
           0,
           0,
           1,
           0,
           1,
           0,
           0,
           1,
           1,
           0,
           1,
           1,
           0,
           1
          ],
          "coloraxis": "coloraxis",
          "opacity": 0.7,
          "symbol": "circle"
         },
         "mode": "markers",
         "name": "",
         "scene": "scene",
         "showlegend": false,
         "type": "scatter3d",
         "x": [
          1.1035933320382416,
          -0.662235619638541,
          1.9284692434842772,
          -1.4491754870317946,
          -2.27482969991929,
          -2.5745699208777912,
          0.6270546630299602,
          2.77711739031407,
          -0.12564140827573603,
          -0.9136718897675828,
          -2.3024199991135745,
          1.2838299749031628,
          -2.0285489674966573,
          2.8480065558948384,
          -1.312141485699584,
          0.2422535847334755,
          -1.2853102119144437,
          -0.2832252244300929,
          -0.2611767090533231,
          0.8537334628892149,
          0.33297093736286326,
          -1.4890273896374029,
          1.697216326143913,
          1.3305797266917978,
          1.2427428303769972,
          1.0611979171972734,
          -0.34826538858331224,
          -0.8371794639945335,
          -0.39660810837651717,
          -1.2087005637631496,
          0.2973729778879715,
          0.14219859323460537,
          -1.6083466342487014,
          -2.2658334936380835,
          0.8420349531828578,
          -0.6160547213345227,
          1.3559659063950336,
          -0.35839627227142656,
          -1.4447185589126526,
          0.6797847419557029,
          -1.832197029687337,
          0.2775811077312027,
          -1.8051452658132157,
          1.422684131813844,
          1.7107920503043625,
          1.8208735442059336,
          0.3756592581529647,
          3.2687128514826282,
          -0.17466673834275787,
          -1.5487641563663748,
          1.6835911314576457,
          -1.6535424743594265,
          1.316438999843467,
          1.5000060886792144,
          -1.6207024970865482,
          0.5289598359321541,
          0.9688227902625333,
          -0.053075076709772316,
          0.8612097567656981,
          -0.3890700317655382,
          -0.4569981889407922,
          0.5305197675470257,
          2.074572512508215,
          -0.10678382389768085,
          1.101171126300304,
          -1.4081756168989525,
          0.6298681298840785,
          -0.6835735125743571,
          -0.6961320422341888,
          -0.17029631041826707,
          0.693939013456364,
          0.15627061834779268,
          -2.113039120376241,
          -1.8525541240477141,
          -0.31638669933705704,
          -0.6230310579570232,
          0.19115758538756472,
          1.1595074239707486,
          -2.27069816505396,
          -1.1679174577875657,
          -0.889323804244664,
          0.08073881605418348,
          -2.1847953605741615,
          -1.3054116705070633,
          1.53105684226623,
          2.0053147623225076,
          2.035607513420382,
          1.7378543682708134,
          2.182723449794306,
          2.4435594607024638,
          0.24644774956926072,
          -0.5981139942698381,
          0.39840177112237024,
          0.5195270069356156,
          -1.590979615203192,
          -0.023175547538717797,
          -0.7922656243725299,
          -2.060087983465048,
          0.873835580032977,
          0.8717628782855902,
          0.42912777719130846,
          -1.7525407411960354,
          -0.6399645935110033,
          0.45659181151279576,
          -0.7522087489476201,
          2.86128423442143,
          -1.0204070622411945,
          2.202407985923913,
          0.6515293716131308,
          1.0229405580138162,
          -0.61288507200175,
          0.5220181877521465,
          1.3364142335843028,
          1.2832711348200099,
          -0.36429490791675506,
          -1.1759515229955153,
          0.014760815874569282,
          1.459047930849014,
          -1.6588302178422667,
          1.1756354623485679,
          0.46095996645624543,
          1.319979049439675,
          0.4613894346357426,
          -1.3134097888173284,
          -1.2557426356163313,
          0.5531714688762006,
          0.9099023233380168,
          1.4067712999784534,
          -0.5961144175674089,
          -1.4215714887107018,
          0.4912011803494652,
          -0.3843879957521086,
          0.7691442452870461,
          -0.8583409629805925,
          -1.0511644610369475,
          2.703835483927818,
          -0.3866045241025502,
          0.4057541909673753,
          1.600016716506082,
          0.886690356180609,
          1.4294032810497959,
          0.8793980327969755,
          -0.5814297681869228,
          1.765080980286576,
          2.1090810444964783,
          3.0963961526675976,
          0.9440361094069294,
          -0.06451028926127633,
          -0.6851638742179214,
          2.0287153838106264,
          0.8128514008338384,
          0.8743790725344524,
          -1.1271026257052001,
          -1.7423877924258235,
          -1.3225215880187235,
          -1.2608156994235027,
          -2.632309757286354,
          1.890131755411213,
          -0.7776631873545428,
          0.6854800462318656,
          2.883162200286729,
          1.2099227608527054,
          0.9019862110880488,
          -1.6727936528712166,
          0.4606064881833734,
          -0.8774731810132903,
          0.14484195360870697,
          -0.7699773876974524,
          0.5944357555492445,
          -0.4005065275797225,
          -0.220615395240849,
          0.34081092921588607,
          -0.7277279237767745,
          1.5574929134837785,
          -1.7646474102103442,
          0.44891603106784317,
          -0.5176280498212008,
          0.26508864863801984,
          0.19436350578050335,
          -2.5473983893096284,
          0.9889716289033406,
          -1.3107475942483047,
          0.11332120393876885,
          0.9299938805787771,
          -0.34702013344665705,
          -2.640013738397895,
          -0.9940219543357919,
          -1.7111815883730483,
          -0.16657673964057487,
          -0.28660430069550996,
          -0.746318042222166,
          -0.9490368066176387,
          -2.069778988743164,
          3.0827046708862973,
          1.2783026678179412,
          -2.7342761320151423,
          0.8808909041268389,
          -1.9280148337648633,
          0.3302103368077651,
          -1.5702988598791783,
          0.8164832211704749,
          2.038098414897422,
          -0.889350702837123,
          -0.752461283309824,
          -1.203522153759693,
          -1.9195373517059477,
          1.1235171076077508,
          -1.7376183241377794,
          1.141332944911056,
          -0.8199557316845439,
          -1.7115969930568784,
          0.46278652395792236,
          2.067796203330416,
          -1.4664384371476575,
          1.5542792798760188,
          -1.0603019145804382,
          -2.785251853594307,
          -0.9030812777446495,
          0.2769748027558601,
          -0.29030075064019045,
          3.0297411251157116,
          -0.8382988396514484,
          -0.6286599264743477,
          1.7024479416370295,
          -1.8876475874966427,
          0.350084790515262,
          -1.4161674029164872,
          0.406623486737842,
          -1.465465658146767,
          -2.417899297335658,
          -0.33689235697476944,
          -1.4790172775665182,
          2.70988119107285,
          -0.18345561997566004,
          -1.8467037815337206,
          1.8262102573593715,
          -0.7808123400180624,
          -1.2017067160440544,
          2.446605606183291,
          0.004236756276688659,
          -0.7338784422379002,
          0.7602262190768868,
          -1.8207352827268664,
          -0.8618738154307249,
          -0.942023349486264,
          1.540841460041073,
          2.569104388478447,
          -1.6293870942701179,
          0.8274042306542821,
          -1.5022745615000899,
          0.04337218019634522,
          -0.17865906459570502,
          -1.0758687468412742,
          0.8867492472185668,
          -0.9059918036877257,
          -0.42758466217084723,
          0.26193866173931407,
          2.901946555779009,
          1.39042230367271,
          1.5360624485886236,
          -0.49153082566975415,
          1.7002782374303858,
          0.6937733492829772,
          0.9560551518364997,
          1.4156908697939696,
          0.40850056452020844,
          0.15147631114139007,
          1.83033230688406,
          3.228653363700673,
          -0.3532509564814321,
          1.1104285452547726,
          2.4016320282873687,
          2.837235751138501,
          -0.9014328062765259,
          -1.5738769678748974,
          2.4948692596571718,
          -1.7052967188957768,
          1.949913147163563,
          0.424207139264922,
          0.2684713930113961,
          -0.5308379396957985,
          -1.0528339866592453,
          0.17886120629163163,
          -1.8330269649841644,
          0.4865997682701884,
          0.4932245884491408,
          0.915735813491924,
          1.478365987142401,
          -2.237069782283485,
          -2.441417310890025,
          2.309908510103359,
          0.4034842166147322,
          -0.20377942562708334,
          -0.4558424633757492,
          -0.4886827988360817,
          -0.8309450058680767,
          -0.4603886077020389,
          0.49536501521408477,
          -1.0715499197558758,
          -1.7761219314077632,
          -2.032368945092075,
          1.5576394042716024,
          -2.181837193046156,
          0.029479258040674493,
          -0.4965474281072363,
          -0.24852033089233747,
          -0.3033420636206669,
          0.14974616118226428,
          0.9045840731912718,
          -1.0175655892159776,
          -0.1544503633692089,
          -0.1128358633354421,
          -0.22443509349677518,
          -0.23615027987917536,
          -1.0990509048982366,
          -1.271211789064015,
          -2.1001481818112375,
          1.8547895741864784,
          -0.4214507955782777,
          -1.155452783349753,
          -0.5818862196175152,
          0.40164509717434943,
          -0.041871055809320615,
          -1.1968536604674602,
          1.9058693008754855,
          -2.137341206773063,
          1.7284096500915398,
          -0.9522876643897241,
          -0.016363721493914428,
          0.5654612033236354,
          -0.8137345696744521,
          0.5436709148621041,
          -0.49453135723217545,
          -1.7609157687552024,
          0.08243763111025876,
          2.646305494878625,
          -0.2771269195275159,
          0.5838506864068431,
          -0.5552441738702284,
          -0.6610942059197648,
          0.5389903436060695,
          0.5361983291145909,
          -1.2171744107303824,
          0.668634500437419,
          -1.9621007307215788,
          -1.4089660160380972,
          0.48220483840523004,
          2.177246023250079,
          -2.2315276802995285,
          1.424400554431862,
          -0.49885165607970494,
          -1.2865433693534123,
          0.04214324354828019
         ],
         "y": [
          0.6176214504164588,
          -0.45235729420520115,
          1.1845063908689346,
          0.22620269733432696,
          -0.5927837173079056,
          -0.7853753765847716,
          0.109112579340612,
          -0.46546507469968834,
          -0.8863833408425917,
          0.3141886857679356,
          -0.24055505861680873,
          0.5885477584596264,
          0.25226914100806064,
          0.061867753819397846,
          0.6130320994886407,
          -0.31829225512315595,
          0.35207845983352415,
          0.9420276595917564,
          1.729964440922629,
          -1.0084437783969695,
          1.3587688015830997,
          -1.229983794270338,
          0.048679031812772285,
          1.6108713913045647,
          -1.020133098231981,
          -0.8254559064600786,
          -0.7802846814611579,
          -0.3761645943232768,
          0.6589908640099916,
          -0.1426406956545264,
          -1.1243901564724623,
          0.1459715711736901,
          -0.4861767783643537,
          1.0917558320546796,
          0.3897924751015588,
          0.8788674779415576,
          0.5340798773129359,
          -1.0734444310077456,
          -0.24890829095742706,
          0.9840578118258425,
          0.48940192500354923,
          1.5248534910880456,
          -0.2578940140743791,
          -0.2417403546995883,
          0.004482225214056429,
          0.46569726019297536,
          0.30125640172297224,
          -0.6356230147266171,
          -0.43998414121640034,
          -1.052421250485424,
          -0.250848729591231,
          0.28239091589356985,
          -0.18808716609076342,
          -1.1233212683720224,
          -0.04134908031428444,
          -1.5751004862917326,
          -0.5007324603894989,
          0.4897584975495549,
          -2.3514785477868165,
          -1.4673878561557423,
          0.3677966130128328,
          0.017236609183731596,
          0.4049168970014861,
          0.5024668462409397,
          0.9467898365131887,
          0.8570768873123817,
          0.422966818295176,
          -0.7106109134086674,
          0.6451659708760925,
          1.395439378744981,
          0.92007097040814,
          0.8936024334396191,
          0.19924643379397275,
          1.1916425250900966,
          0.000540423359650303,
          -1.305453745959283,
          -0.3389220498409219,
          1.6139789850623323,
          0.18316119915719042,
          0.07763458788447752,
          -0.1661882712460166,
          0.16784756206242238,
          -0.5617387051729692,
          -0.04411334255089435,
          0.2114386204884736,
          -0.044691590406338556,
          -0.3975434562297684,
          1.4741687969498078,
          -0.19367336613644529,
          0.13491983832385135,
          -0.01565502671612313,
          -0.24205098292210264,
          0.4342558049986957,
          -0.3394930117484759,
          0.6732070588128607,
          -0.8658095683397863,
          -0.6050060939063117,
          -0.4595705636177799,
          0.16887217952997896,
          -1.3381404373350574,
          -0.9244355462414099,
          1.3303276665089712,
          -1.2794131363574535,
          0.040094629595178545,
          -0.30054402450743806,
          0.49399061782023346,
          0.6295616958748735,
          -0.5823128749578128,
          -0.6706568795737216,
          -0.2298387018270083,
          -0.06088936215051232,
          2.2097035955789734,
          1.0794191390548094,
          -1.009224293117211,
          0.9275713397555256,
          0.236781251895227,
          1.2916472250776818,
          1.0892348035639254,
          -0.0385831970138913,
          -1.2078216373855128,
          -0.4165671949546742,
          1.5285277247340168,
          -1.5941189292531446,
          0.7280049179988365,
          -1.12053781754532,
          -0.4017173412169397,
          2.7301408151554734,
          0.1763091411120941,
          0.22409651793102706,
          0.6236001304561963,
          0.9305321321488007,
          -0.2721765641283339,
          -1.0445991271508623,
          -0.8263283245091786,
          -0.35987753107828224,
          -1.2080530944257375,
          -1.228633881564178,
          -0.6424663315020405,
          -0.4819751528390962,
          -0.4307263678141042,
          -0.24291786650577715,
          0.7791967382225363,
          -0.07403670386792374,
          -0.11075333960437905,
          0.48144029017597906,
          0.49253745733512266,
          0.3714639989342868,
          0.038689830538871574,
          1.273970851851546,
          0.07400734798733433,
          -0.7920509327674253,
          -0.5180798230111086,
          -0.12306230795036766,
          1.488339708503498,
          -0.7653248321721927,
          -0.6862901045627138,
          0.7807964128756779,
          -0.28574220074771456,
          -0.06738483868537903,
          -0.4175518231424858,
          0.25641015815691587,
          -0.6164091346632644,
          -1.66925650675554,
          0.5545728151093973,
          1.168190648981634,
          0.44813239381288233,
          -0.3579960639061046,
          0.40419151512842955,
          1.067724292232874,
          -0.3487719041282744,
          -0.2497835523746006,
          0.8600641028191451,
          0.08009526586474883,
          -0.36902522693877243,
          -0.9261165435211286,
          0.3000601365868859,
          -0.8474681724319058,
          0.6225063933636668,
          0.32752226589704037,
          0.22508809792788576,
          1.0533879345514383,
          -0.19108039378342093,
          -0.43753351476023566,
          -0.9477407894154332,
          0.5733326495340841,
          -1.1327531603773133,
          0.23204800579757837,
          -0.39553900765937855,
          -0.24626510189199702,
          -0.27291648408452035,
          -0.7395095238430681,
          0.5775167882880679,
          0.39356172227460534,
          -0.6792924644610278,
          -0.6338669032810857,
          -0.36075044152972674,
          0.7678878521577528,
          0.4667691472037275,
          -0.031950529418876404,
          0.5514809111505667,
          -1.0863968665954515,
          0.7941969579056849,
          0.34666222476832953,
          -0.8560402101046115,
          -1.1339066470113384,
          0.4772624026264256,
          0.13719293113729036,
          -0.1266182106718796,
          0.04109396881149557,
          -0.2073632666300767,
          -1.0283721108103774,
          0.41459912710752994,
          0.31952448040416587,
          -0.39009586428172627,
          -2.0077866394533506,
          0.09240028131200148,
          -0.9246492628431575,
          0.5800159284022798,
          -0.42117618737783674,
          0.029689091585111772,
          -0.25236992918458756,
          1.1071685396930007,
          0.9428144883430163,
          -2.1503397174743877,
          0.7856781708374667,
          -0.8817471777589411,
          0.2552365289443739,
          0.16008170864218832,
          0.30390454041922793,
          -0.8735573719979183,
          -0.11779406453536284,
          0.23255735391581034,
          0.6951783019638101,
          -1.3242526288382328,
          -0.31941309676980306,
          -0.33090793556875386,
          -1.6887623319833882,
          0.5338956455615764,
          -0.46032024645736863,
          -0.9192541614041305,
          0.219322757857571,
          -1.9621286654839112,
          -0.12016513152463584,
          1.1999834267316918,
          -1.1716731348372018,
          1.6003694340760761,
          0.312354160886878,
          0.19089649620774443,
          -1.511672894696601,
          0.270633186002426,
          -0.9439574265316387,
          -0.8153527800657062,
          -0.3249423364963037,
          -1.6249279936233278,
          0.2784959890215853,
          0.30939893225635845,
          0.3089277809608579,
          0.26581215638577477,
          -0.5097123941714949,
          0.15862027892343356,
          0.4068172129404736,
          -1.8406107220851067,
          1.2400405557665273,
          0.1631541045207475,
          -0.2666437849112538,
          0.6006025063946114,
          -1.1096811610160868,
          -1.3580615837195997,
          0.0065134340331672955,
          0.7356173817149156,
          1.1266473848175795,
          0.6526866162170666,
          0.755400583491261,
          -0.11857776992546404,
          0.6297968186173735,
          0.025799619909239842,
          -0.6374570630895346,
          1.19728482213794,
          0.3469646980082827,
          -0.3130991785339989,
          1.41962540015655,
          -0.3658606887128177,
          1.6507531821201666,
          0.5782886628267793,
          0.624275461358849,
          -0.5459016583949806,
          0.4001980747358844,
          -0.6855904831766879,
          0.0333935722771367,
          0.4314514963401937,
          -1.8933384179156862,
          -1.643272572997692,
          -1.255212633971691,
          0.15057477426189655,
          -0.5430515621575531,
          -0.15613846159571462,
          0.4364395593357204,
          -0.23149616633690656,
          -0.6813911850042704,
          -0.5454303736844079,
          -0.3300802643872832,
          -0.1429894297117601,
          0.5561131784776293,
          -1.471133937024743,
          0.591955030550591,
          -0.5817189899302556,
          0.7939723835717479,
          -0.6468896894788848,
          0.4764268579744129,
          0.9498038562146683,
          0.3926170217422792,
          -0.02680593123087012,
          0.5253232354220507,
          -0.9842506660768399,
          0.6682478548503064,
          -0.8744450505868044,
          0.7860482715715696,
          -0.3155998604426804,
          1.0488303754605326,
          1.0774414477035408,
          -0.6817596646745903,
          1.1628602185867156,
          -1.314968288740823,
          0.899040070163453,
          0.00735683182261577,
          -0.5087237323299114,
          0.33928876490267396,
          -0.5741127068301232,
          1.2426942214497076,
          0.15797043303004996,
          -0.08382352698912054,
          2.0264972581332796,
          0.8596233173361055,
          0.3519584976787296,
          -1.3894659779559622,
          0.9402445064186954,
          0.02257436350470022,
          0.37151067767504875,
          0.5086598190361952,
          -0.0075586603939878875,
          -0.18910663768583438,
          0.7735379801826558,
          0.2291769138311682,
          0.06403076460891813,
          -0.8746512380234079,
          -0.2515246333346593,
          0.8894712874574146,
          1.6681924875677292,
          0.3560387966490007,
          1.159920360298164,
          0.14904852091997273,
          -0.14503882470443413,
          -0.4071309351567673
         ],
         "z": [
          -0.30565790009317817,
          -0.23080247265937706,
          0.34916498727387635,
          0.17954199579401964,
          -0.3688139909791866,
          0.5073056657710907,
          0.09223665652617502,
          -0.454941116927788,
          0.7418252993174348,
          0.3147803947547251,
          -0.290671523801209,
          -0.24610125220269832,
          0.00523740093841581,
          0.7069523935941406,
          -1.0025075079362358,
          0.21149596218961256,
          -0.04566579691930382,
          -0.42410114533230936,
          -0.35309029130531905,
          -0.5809987599460643,
          0.99369081263887,
          -0.42890452739372437,
          -0.15815744538748727,
          -1.8169144816318217,
          0.10902450641531738,
          -0.8160857301022907,
          -0.4300269986617545,
          0.14788836170932554,
          0.2698441716168453,
          0.7144594434345526,
          -0.3193299114037588,
          0.573759777233299,
          -0.055539890996558566,
          1.2647026299617048,
          -0.0172418260876566,
          0.3506586786618992,
          -1.0492779180241023,
          0.028769394445905924,
          -0.0830264292182089,
          -0.4278879408857172,
          -0.591042244931857,
          0.3211685651906844,
          -0.01893917831743364,
          0.023560616171773397,
          -0.4588551821332571,
          1.128038896936127,
          -0.5081361513741518,
          0.24027935666894407,
          -0.27119588250680504,
          0.7482311219339581,
          1.7497228492045551,
          0.2103940007517252,
          -0.656602489535208,
          -0.012646225426774455,
          -0.10140455734752424,
          0.21841498243360155,
          -0.8502121559340936,
          -0.6707928262059825,
          -0.1825554696974889,
          -0.5047083677191607,
          0.19481164085214886,
          0.24932825952670146,
          2.1136489741708266,
          0.6440336324016993,
          -0.5283504661856153,
          0.5324350618242991,
          -0.23148214563238514,
          0.46259397601975905,
          -0.10771302543683031,
          -0.41247124432091015,
          -0.1335448320678381,
          -0.5130688874054198,
          -0.19300803146236137,
          0.7750659422434535,
          -1.1243137646132995,
          -1.0104681171268806,
          -0.27075975556032644,
          1.003651416121512,
          0.25444848481522125,
          -0.19101462033513478,
          0.12516780552536347,
          -0.36570228081765493,
          -1.0897067813776056,
          0.22681294181175707,
          -0.504768322222651,
          0.10754170451620136,
          -1.9955745727396434,
          1.4632438576664273,
          -0.1223758809146808,
          -0.30770590785873103,
          -0.9632583530021883,
          0.44145979619323433,
          0.012896463455930648,
          -1.3706074888482476,
          0.14428547184664092,
          -0.5062784043902321,
          -0.797709557338058,
          -0.47941653493388875,
          1.3147572289016554,
          -0.5215573504353657,
          -0.09623094772432958,
          -0.4821087730723849,
          1.9116227324171702,
          0.7689752459184352,
          -0.2183644966059758,
          -0.05841312605163683,
          -0.6479740085114002,
          -0.058683952346631735,
          -0.6453473519917784,
          -0.47692962451757825,
          1.9173452056114777,
          -0.6986528566893517,
          0.49208123334959136,
          0.44445722141541105,
          -1.0315004941847594,
          -0.3899158535972525,
          -0.2067729475191642,
          1.3068533063238486,
          -1.0669319870900742,
          1.1390838922031463,
          0.6651346809190426,
          -0.3035420813945355,
          -2.6352868998861023,
          -0.01759276441999609,
          -0.3826810745778701,
          0.3282297842271479,
          0.0035127782454186345,
          -0.7854593450414206,
          0.6650896091303092,
          -0.03786671901688539,
          -0.9985447414688625,
          -0.5819548910283577,
          1.4014499348563694,
          0.4589883193002272,
          -0.22294947496959588,
          -0.9503139858296741,
          0.04607851552859003,
          0.6737764649717645,
          0.7819348605475683,
          0.027583562576164466,
          -1.219858847795573,
          -0.24555288386571938,
          -0.04457259735485074,
          -0.3679771337796535,
          1.454786755826927,
          1.3286702954209972,
          1.1941868658156516,
          -0.8204301578890989,
          0.8109656053545795,
          -0.2533796913954636,
          -1.2437138595438102,
          0.7250996332459962,
          -0.15563732116631057,
          0.1798912041948026,
          -0.0012419040936577606,
          0.28590840971155895,
          0.21094363875538913,
          -1.8965080236758438,
          -0.6445086432158484,
          -0.2940740216706068,
          0.30827499659381924,
          -1.1759062573248262,
          0.10142445119933806,
          0.15802874095746605,
          -0.9056234034231102,
          0.1616417970010678,
          0.813727333233158,
          0.4222618826748017,
          0.5486783565250442,
          0.6965889740010893,
          -0.4277408867700805,
          0.29599578030426243,
          0.16340300561707014,
          0.7413648932089264,
          -0.20907140639036692,
          -0.08236304587639987,
          1.031524108302475,
          -0.6805642084412395,
          -0.5982353541122009,
          -0.2684072923161322,
          -0.27610401691131337,
          0.1996576399545552,
          -0.31209849260732647,
          -1.1278753473202312,
          0.5880540468971536,
          -0.3420231491592821,
          -0.11017029313786164,
          0.8771093540351618,
          -0.0756755027770667,
          -1.020261966647312,
          1.6160729568257186,
          0.09006214884220348,
          0.21702798674697976,
          -0.9923931706609953,
          0.6053180565229354,
          -0.3385320054529639,
          -1.096713711185939,
          0.16803727181984152,
          1.682000028549349,
          0.7414930609969594,
          0.049200617854949724,
          -0.08014424083624894,
          -0.022545514496891163,
          -0.6920406558790144,
          -0.18721320771905053,
          1.071511208746684,
          -0.5220536155607456,
          -0.7710374957063464,
          0.027716138937457422,
          -0.5797395385434523,
          -0.7759483990262771,
          0.22650077075141656,
          0.5737598257489,
          -0.6686529537788392,
          0.2998644601037002,
          0.5770834859465463,
          -0.1726687650472013,
          -0.12561694710464325,
          0.29250831304715214,
          0.04502053727919872,
          -0.9237302914182159,
          -0.01566144422779632,
          -0.18640776544348264,
          2.23865694373899,
          0.8739385519864635,
          -0.19828261884747186,
          -0.13576273012458723,
          -0.017593941204003608,
          -0.7715536397175436,
          0.16794136857614356,
          0.019415120278673006,
          0.567574077859129,
          0.7769670419905587,
          -0.33239582144141894,
          -0.7973813184819047,
          1.9076534819061786,
          -0.17313656787082052,
          -0.5173792742906843,
          -1.6156476146474434,
          1.2312468521863558,
          -0.196231116249544,
          0.5415395747328051,
          1.0771522585102133,
          0.6451900532281596,
          1.043489194018083,
          -0.6558756130408402,
          1.2088819544667153,
          1.0892515550270314,
          0.25529691566249574,
          -0.5154543091893952,
          1.250978247178485,
          -0.48549765580376275,
          -0.0684481695387785,
          0.6449708375195908,
          0.0523946986492132,
          0.11741352491216504,
          -0.3564694634217427,
          1.2636861002663478,
          0.05720897750740157,
          -0.16847905844212924,
          -0.18475612163485364,
          -0.4376196968307939,
          -0.4222097650475905,
          -0.5324300110190732,
          0.018560026930287955,
          -0.01590744085354188,
          0.46396939391011555,
          0.6899035678836722,
          0.2078417007203686,
          -0.33545179425064386,
          1.079320231545015,
          -0.6624160091418578,
          -0.23232203380128202,
          -0.29836312275361154,
          -0.12862662436509237,
          -0.18177399032632008,
          0.34871959698135674,
          -0.17530099395950532,
          -0.5869952385918631,
          -0.35002891681423726,
          -0.06272397111182378,
          -0.28453584181265257,
          0.057846347607101806,
          0.17130261456287343,
          -1.1230883978278625,
          -0.2592303412252351,
          -0.2511034758841011,
          -0.17504196825397447,
          -0.07575289177425899,
          -0.14341820492704893,
          1.2115152802763034,
          0.40783767147466515,
          -0.6198466444754631,
          0.10305226256446956,
          0.019473579131568032,
          1.3218776739156985,
          0.25633945804957947,
          -0.5821972576619219,
          -0.06995457319857479,
          -0.04094234263806991,
          1.8174068097050817,
          -1.8811496487141743,
          0.19068679618747184,
          1.19216191191252,
          0.6210934466699521,
          1.1153831496688225,
          0.4653874721077736,
          -0.12600146555464523,
          -0.4218979081549322,
          -0.1539567667978235,
          0.9368864497226725,
          -0.659455309701401,
          0.14095282225208589,
          0.0015833654530830604,
          -0.7821973202128376,
          0.12469001343875376,
          0.37453946728133997,
          -2.3646373581724403,
          -1.0874499876465331,
          0.12698665419462946,
          -0.20786541907671907,
          -0.28860644422523685,
          1.1014313267834897,
          0.6278181158438824,
          -0.035168847524533614,
          -0.34957668185339186,
          -0.5135807621516899,
          -0.7212202311588704,
          -0.0522011102050538,
          2.1830004672679237,
          0.5237113100406812,
          0.8984888087190075,
          -0.8684849885209636,
          0.17171722766460537,
          -0.8373145435058293,
          0.9890971699520293,
          0.06202914913305596,
          -0.18717567044556707,
          -1.209775976049848,
          -0.19656838886968434,
          -0.7190085974003024,
          0.7122337895775506,
          0.06146897756628428,
          -0.04939140852108742,
          -0.9402588499497472,
          -0.6552030226152591,
          -0.1332901643613883,
          -0.09402103974879257,
          -0.30734277224219336,
          0.1859109704335983,
          -0.1661574569743509,
          0.2303581425551936,
          0.5406463507448339
         ]
        },
        {
         "marker": {
          "color": "red",
          "size": 5
         },
         "mode": "markers",
         "name": "Outliers",
         "type": "scatter3d",
         "x": [],
         "y": [],
         "z": []
        }
       ],
       "layout": {
        "autosize": true,
        "coloraxis": {
         "colorbar": {
          "title": {
           "text": "Diabetes"
          }
         },
         "colorscale": [
          [
           0,
           "#0d0887"
          ],
          [
           0.1111111111111111,
           "#46039f"
          ],
          [
           0.2222222222222222,
           "#7201a8"
          ],
          [
           0.3333333333333333,
           "#9c179e"
          ],
          [
           0.4444444444444444,
           "#bd3786"
          ],
          [
           0.5555555555555556,
           "#d8576b"
          ],
          [
           0.6666666666666666,
           "#ed7953"
          ],
          [
           0.7777777777777778,
           "#fb9f3a"
          ],
          [
           0.8888888888888888,
           "#fdca26"
          ],
          [
           1,
           "#f0f921"
          ]
         ]
        },
        "legend": {
         "bgcolor": "LightSteelBlue",
         "bordercolor": "Black",
         "borderwidth": 2,
         "font": {
          "color": "black",
          "family": "sans-serif",
          "size": 12
         },
         "tracegroupgap": 0,
         "traceorder": "normal",
         "x": 0,
         "y": 1
        },
        "margin": {
         "b": 0,
         "l": 0,
         "r": 0,
         "t": 40
        },
        "scene": {
         "aspectmode": "auto",
         "aspectratio": {
          "x": 1.1395473416922042,
          "y": 0.9565212416379504,
          "z": 0.9174301505098509
         },
         "domain": {
          "x": [
           0,
           1
          ],
          "y": [
           0,
           1
          ]
         },
         "xaxis": {
          "title": {
           "text": "PCA Component 1"
          },
          "type": "linear"
         },
         "yaxis": {
          "title": {
           "text": "PCA Component 2"
          },
          "type": "linear"
         },
         "zaxis": {
          "title": {
           "text": "PCA Component 3"
          },
          "type": "linear"
         }
        },
        "template": {
         "data": {
          "bar": [
           {
            "error_x": {
             "color": "#2a3f5f"
            },
            "error_y": {
             "color": "#2a3f5f"
            },
            "marker": {
             "line": {
              "color": "#E5ECF6",
              "width": 0.5
             },
             "pattern": {
              "fillmode": "overlay",
              "size": 10,
              "solidity": 0.2
             }
            },
            "type": "bar"
           }
          ],
          "barpolar": [
           {
            "marker": {
             "line": {
              "color": "#E5ECF6",
              "width": 0.5
             },
             "pattern": {
              "fillmode": "overlay",
              "size": 10,
              "solidity": 0.2
             }
            },
            "type": "barpolar"
           }
          ],
          "carpet": [
           {
            "aaxis": {
             "endlinecolor": "#2a3f5f",
             "gridcolor": "white",
             "linecolor": "white",
             "minorgridcolor": "white",
             "startlinecolor": "#2a3f5f"
            },
            "baxis": {
             "endlinecolor": "#2a3f5f",
             "gridcolor": "white",
             "linecolor": "white",
             "minorgridcolor": "white",
             "startlinecolor": "#2a3f5f"
            },
            "type": "carpet"
           }
          ],
          "choropleth": [
           {
            "colorbar": {
             "outlinewidth": 0,
             "ticks": ""
            },
            "type": "choropleth"
           }
          ],
          "contour": [
           {
            "colorbar": {
             "outlinewidth": 0,
             "ticks": ""
            },
            "colorscale": [
             [
              0,
              "#0d0887"
             ],
             [
              0.1111111111111111,
              "#46039f"
             ],
             [
              0.2222222222222222,
              "#7201a8"
             ],
             [
              0.3333333333333333,
              "#9c179e"
             ],
             [
              0.4444444444444444,
              "#bd3786"
             ],
             [
              0.5555555555555556,
              "#d8576b"
             ],
             [
              0.6666666666666666,
              "#ed7953"
             ],
             [
              0.7777777777777778,
              "#fb9f3a"
             ],
             [
              0.8888888888888888,
              "#fdca26"
             ],
             [
              1,
              "#f0f921"
             ]
            ],
            "type": "contour"
           }
          ],
          "contourcarpet": [
           {
            "colorbar": {
             "outlinewidth": 0,
             "ticks": ""
            },
            "type": "contourcarpet"
           }
          ],
          "heatmap": [
           {
            "colorbar": {
             "outlinewidth": 0,
             "ticks": ""
            },
            "colorscale": [
             [
              0,
              "#0d0887"
             ],
             [
              0.1111111111111111,
              "#46039f"
             ],
             [
              0.2222222222222222,
              "#7201a8"
             ],
             [
              0.3333333333333333,
              "#9c179e"
             ],
             [
              0.4444444444444444,
              "#bd3786"
             ],
             [
              0.5555555555555556,
              "#d8576b"
             ],
             [
              0.6666666666666666,
              "#ed7953"
             ],
             [
              0.7777777777777778,
              "#fb9f3a"
             ],
             [
              0.8888888888888888,
              "#fdca26"
             ],
             [
              1,
              "#f0f921"
             ]
            ],
            "type": "heatmap"
           }
          ],
          "heatmapgl": [
           {
            "colorbar": {
             "outlinewidth": 0,
             "ticks": ""
            },
            "colorscale": [
             [
              0,
              "#0d0887"
             ],
             [
              0.1111111111111111,
              "#46039f"
             ],
             [
              0.2222222222222222,
              "#7201a8"
             ],
             [
              0.3333333333333333,
              "#9c179e"
             ],
             [
              0.4444444444444444,
              "#bd3786"
             ],
             [
              0.5555555555555556,
              "#d8576b"
             ],
             [
              0.6666666666666666,
              "#ed7953"
             ],
             [
              0.7777777777777778,
              "#fb9f3a"
             ],
             [
              0.8888888888888888,
              "#fdca26"
             ],
             [
              1,
              "#f0f921"
             ]
            ],
            "type": "heatmapgl"
           }
          ],
          "histogram": [
           {
            "marker": {
             "pattern": {
              "fillmode": "overlay",
              "size": 10,
              "solidity": 0.2
             }
            },
            "type": "histogram"
           }
          ],
          "histogram2d": [
           {
            "colorbar": {
             "outlinewidth": 0,
             "ticks": ""
            },
            "colorscale": [
             [
              0,
              "#0d0887"
             ],
             [
              0.1111111111111111,
              "#46039f"
             ],
             [
              0.2222222222222222,
              "#7201a8"
             ],
             [
              0.3333333333333333,
              "#9c179e"
             ],
             [
              0.4444444444444444,
              "#bd3786"
             ],
             [
              0.5555555555555556,
              "#d8576b"
             ],
             [
              0.6666666666666666,
              "#ed7953"
             ],
             [
              0.7777777777777778,
              "#fb9f3a"
             ],
             [
              0.8888888888888888,
              "#fdca26"
             ],
             [
              1,
              "#f0f921"
             ]
            ],
            "type": "histogram2d"
           }
          ],
          "histogram2dcontour": [
           {
            "colorbar": {
             "outlinewidth": 0,
             "ticks": ""
            },
            "colorscale": [
             [
              0,
              "#0d0887"
             ],
             [
              0.1111111111111111,
              "#46039f"
             ],
             [
              0.2222222222222222,
              "#7201a8"
             ],
             [
              0.3333333333333333,
              "#9c179e"
             ],
             [
              0.4444444444444444,
              "#bd3786"
             ],
             [
              0.5555555555555556,
              "#d8576b"
             ],
             [
              0.6666666666666666,
              "#ed7953"
             ],
             [
              0.7777777777777778,
              "#fb9f3a"
             ],
             [
              0.8888888888888888,
              "#fdca26"
             ],
             [
              1,
              "#f0f921"
             ]
            ],
            "type": "histogram2dcontour"
           }
          ],
          "mesh3d": [
           {
            "colorbar": {
             "outlinewidth": 0,
             "ticks": ""
            },
            "type": "mesh3d"
           }
          ],
          "parcoords": [
           {
            "line": {
             "colorbar": {
              "outlinewidth": 0,
              "ticks": ""
             }
            },
            "type": "parcoords"
           }
          ],
          "pie": [
           {
            "automargin": true,
            "type": "pie"
           }
          ],
          "scatter": [
           {
            "fillpattern": {
             "fillmode": "overlay",
             "size": 10,
             "solidity": 0.2
            },
            "type": "scatter"
           }
          ],
          "scatter3d": [
           {
            "line": {
             "colorbar": {
              "outlinewidth": 0,
              "ticks": ""
             }
            },
            "marker": {
             "colorbar": {
              "outlinewidth": 0,
              "ticks": ""
             }
            },
            "type": "scatter3d"
           }
          ],
          "scattercarpet": [
           {
            "marker": {
             "colorbar": {
              "outlinewidth": 0,
              "ticks": ""
             }
            },
            "type": "scattercarpet"
           }
          ],
          "scattergeo": [
           {
            "marker": {
             "colorbar": {
              "outlinewidth": 0,
              "ticks": ""
             }
            },
            "type": "scattergeo"
           }
          ],
          "scattergl": [
           {
            "marker": {
             "colorbar": {
              "outlinewidth": 0,
              "ticks": ""
             }
            },
            "type": "scattergl"
           }
          ],
          "scattermapbox": [
           {
            "marker": {
             "colorbar": {
              "outlinewidth": 0,
              "ticks": ""
             }
            },
            "type": "scattermapbox"
           }
          ],
          "scatterpolar": [
           {
            "marker": {
             "colorbar": {
              "outlinewidth": 0,
              "ticks": ""
             }
            },
            "type": "scatterpolar"
           }
          ],
          "scatterpolargl": [
           {
            "marker": {
             "colorbar": {
              "outlinewidth": 0,
              "ticks": ""
             }
            },
            "type": "scatterpolargl"
           }
          ],
          "scatterternary": [
           {
            "marker": {
             "colorbar": {
              "outlinewidth": 0,
              "ticks": ""
             }
            },
            "type": "scatterternary"
           }
          ],
          "surface": [
           {
            "colorbar": {
             "outlinewidth": 0,
             "ticks": ""
            },
            "colorscale": [
             [
              0,
              "#0d0887"
             ],
             [
              0.1111111111111111,
              "#46039f"
             ],
             [
              0.2222222222222222,
              "#7201a8"
             ],
             [
              0.3333333333333333,
              "#9c179e"
             ],
             [
              0.4444444444444444,
              "#bd3786"
             ],
             [
              0.5555555555555556,
              "#d8576b"
             ],
             [
              0.6666666666666666,
              "#ed7953"
             ],
             [
              0.7777777777777778,
              "#fb9f3a"
             ],
             [
              0.8888888888888888,
              "#fdca26"
             ],
             [
              1,
              "#f0f921"
             ]
            ],
            "type": "surface"
           }
          ],
          "table": [
           {
            "cells": {
             "fill": {
              "color": "#EBF0F8"
             },
             "line": {
              "color": "white"
             }
            },
            "header": {
             "fill": {
              "color": "#C8D4E3"
             },
             "line": {
              "color": "white"
             }
            },
            "type": "table"
           }
          ]
         },
         "layout": {
          "annotationdefaults": {
           "arrowcolor": "#2a3f5f",
           "arrowhead": 0,
           "arrowwidth": 1
          },
          "autotypenumbers": "strict",
          "coloraxis": {
           "colorbar": {
            "outlinewidth": 0,
            "ticks": ""
           }
          },
          "colorscale": {
           "diverging": [
            [
             0,
             "#8e0152"
            ],
            [
             0.1,
             "#c51b7d"
            ],
            [
             0.2,
             "#de77ae"
            ],
            [
             0.3,
             "#f1b6da"
            ],
            [
             0.4,
             "#fde0ef"
            ],
            [
             0.5,
             "#f7f7f7"
            ],
            [
             0.6,
             "#e6f5d0"
            ],
            [
             0.7,
             "#b8e186"
            ],
            [
             0.8,
             "#7fbc41"
            ],
            [
             0.9,
             "#4d9221"
            ],
            [
             1,
             "#276419"
            ]
           ],
           "sequential": [
            [
             0,
             "#0d0887"
            ],
            [
             0.1111111111111111,
             "#46039f"
            ],
            [
             0.2222222222222222,
             "#7201a8"
            ],
            [
             0.3333333333333333,
             "#9c179e"
            ],
            [
             0.4444444444444444,
             "#bd3786"
            ],
            [
             0.5555555555555556,
             "#d8576b"
            ],
            [
             0.6666666666666666,
             "#ed7953"
            ],
            [
             0.7777777777777778,
             "#fb9f3a"
            ],
            [
             0.8888888888888888,
             "#fdca26"
            ],
            [
             1,
             "#f0f921"
            ]
           ],
           "sequentialminus": [
            [
             0,
             "#0d0887"
            ],
            [
             0.1111111111111111,
             "#46039f"
            ],
            [
             0.2222222222222222,
             "#7201a8"
            ],
            [
             0.3333333333333333,
             "#9c179e"
            ],
            [
             0.4444444444444444,
             "#bd3786"
            ],
            [
             0.5555555555555556,
             "#d8576b"
            ],
            [
             0.6666666666666666,
             "#ed7953"
            ],
            [
             0.7777777777777778,
             "#fb9f3a"
            ],
            [
             0.8888888888888888,
             "#fdca26"
            ],
            [
             1,
             "#f0f921"
            ]
           ]
          },
          "colorway": [
           "#636efa",
           "#EF553B",
           "#00cc96",
           "#ab63fa",
           "#FFA15A",
           "#19d3f3",
           "#FF6692",
           "#B6E880",
           "#FF97FF",
           "#FECB52"
          ],
          "font": {
           "color": "#2a3f5f"
          },
          "geo": {
           "bgcolor": "white",
           "lakecolor": "white",
           "landcolor": "#E5ECF6",
           "showlakes": true,
           "showland": true,
           "subunitcolor": "white"
          },
          "hoverlabel": {
           "align": "left"
          },
          "hovermode": "closest",
          "mapbox": {
           "style": "light"
          },
          "paper_bgcolor": "white",
          "plot_bgcolor": "#E5ECF6",
          "polar": {
           "angularaxis": {
            "gridcolor": "white",
            "linecolor": "white",
            "ticks": ""
           },
           "bgcolor": "#E5ECF6",
           "radialaxis": {
            "gridcolor": "white",
            "linecolor": "white",
            "ticks": ""
           }
          },
          "scene": {
           "xaxis": {
            "backgroundcolor": "#E5ECF6",
            "gridcolor": "white",
            "gridwidth": 2,
            "linecolor": "white",
            "showbackground": true,
            "ticks": "",
            "zerolinecolor": "white"
           },
           "yaxis": {
            "backgroundcolor": "#E5ECF6",
            "gridcolor": "white",
            "gridwidth": 2,
            "linecolor": "white",
            "showbackground": true,
            "ticks": "",
            "zerolinecolor": "white"
           },
           "zaxis": {
            "backgroundcolor": "#E5ECF6",
            "gridcolor": "white",
            "gridwidth": 2,
            "linecolor": "white",
            "showbackground": true,
            "ticks": "",
            "zerolinecolor": "white"
           }
          },
          "shapedefaults": {
           "line": {
            "color": "#2a3f5f"
           }
          },
          "ternary": {
           "aaxis": {
            "gridcolor": "white",
            "linecolor": "white",
            "ticks": ""
           },
           "baxis": {
            "gridcolor": "white",
            "linecolor": "white",
            "ticks": ""
           },
           "bgcolor": "#E5ECF6",
           "caxis": {
            "gridcolor": "white",
            "linecolor": "white",
            "ticks": ""
           }
          },
          "title": {
           "x": 0.05
          },
          "xaxis": {
           "automargin": true,
           "gridcolor": "white",
           "linecolor": "white",
           "ticks": "",
           "title": {
            "standoff": 15
           },
           "zerolinecolor": "white",
           "zerolinewidth": 2
          },
          "yaxis": {
           "automargin": true,
           "gridcolor": "white",
           "linecolor": "white",
           "ticks": "",
           "title": {
            "standoff": 15
           },
           "zerolinecolor": "white",
           "zerolinewidth": 2
          }
         }
        },
        "title": {
         "text": "PCA of Diabetes Dataset"
        }
       }
      },
      "image/png": "[encoded data removed]",
      "text/html": [
       "<div>                            <div id=\"711b21e4-2858-4aea-be5a-81c924767b2f\" class=\"plotly-graph-div\" style=\"height:525px; width:100%;\"></div>            <script type=\"text/javascript\">                require([\"plotly\"], function(Plotly) {                    window.PLOTLYENV=window.PLOTLYENV || {};                                    if (document.getElementById(\"711b21e4-2858-4aea-be5a-81c924767b2f\")) {                    Plotly.newPlot(                        \"711b21e4-2858-4aea-be5a-81c924767b2f\",                        [{\"hovertemplate\":\"PCA1=%{x}\\u003cbr\\u003ePCA2=%{y}\\u003cbr\\u003ePCA3=%{z}\\u003cbr\\u003eDiabetes=%{marker.color}\\u003cextra\\u003e\\u003c\\u002fextra\\u003e\",\"legendgroup\":\"\",\"marker\":{\"color\":[1,1,1,0,0,0,1,1,1,0,0,1,0,1,0,1,0,0,0,1,0,0,1,1,1,1,1,0,0,0,1,0,0,0,1,0,1,1,0,1,0,0,0,1,1,1,1,1,1,0,1,0,0,1,0,1,1,1,1,0,0,0,1,1,1,0,0,1,0,1,0,1,0,0,1,0,1,1,0,0,0,0,0,1,1,1,1,1,1,1,1,0,1,1,0,1,0,0,1,1,1,0,0,1,0,1,0,1,0,1,1,0,1,0,0,0,0,0,0,0,1,0,0,1,0,0,1,1,0,0,1,0,1,1,1,1,1,1,1,1,1,0,0,1,1,1,0,0,1,1,1,1,1,0,1,1,0,1,1,1,1,0,0,0,1,1,1,1,1,1,1,0,0,1,1,0,0,0,1,0,0,0,1,1,1,0,0,0,0,1,1,0,0,1,1,0,1,1,1,0,0,1,1,0,0,0,1,0,1,0,1,1,1,1,1,0,0,1,1,1,1,0,0,1,0,0,0,1,0,0,0,0,1,1,1,1,0,1,1,0,0,1,0,0,1,1,1,0,1,0,0,0,0,1,0,0,0,1,1,1,1,0,0,0,1,0,0,1,1,0,1,1,1,0,0,1,0,1,1,1,0,0,0,0,0,1,1,0,0,0,1,1,0,0,0,1,1,1,0,0,1,1,0,0,0,0,0,0,1,0,1,0,1,1,0,0,1,1,1,0,1,0,0,0,1,0,1,1,1,1,0,0,0,0,0,1,0,1,0,0,0,1,0,1,0,0,1,1,0,1,1,0,1],\"coloraxis\":\"coloraxis\",\"opacity\":0.7,\"symbol\":\"circle\"},\"mode\":\"markers\",\"name\":\"\",\"scene\":\"scene\",\"showlegend\":false,\"x\":[1.1035933320382416,-0.662235619638541,1.9284692434842772,-1.4491754870317946,-2.27482969991929,-2.5745699208777912,0.6270546630299602,2.77711739031407,-0.12564140827573603,-0.9136718897675828,-2.3024199991135745,1.2838299749031628,-2.0285489674966573,2.8480065558948384,-1.312141485699584,0.2422535847334755,-1.2853102119144437,-0.2832252244300929,-0.2611767090533231,0.8537334628892149,0.33297093736286326,-1.4890273896374029,1.697216326143913,1.3305797266917978,1.2427428303769972,1.0611979171972734,-0.34826538858331224,-0.8371794639945335,-0.39660810837651717,-1.2087005637631496,0.2973729778879715,0.14219859323460537,-1.6083466342487014,-2.2658334936380835,0.8420349531828578,-0.6160547213345227,1.3559659063950336,-0.35839627227142656,-1.4447185589126526,0.6797847419557029,-1.832197029687337,0.2775811077312027,-1.8051452658132157,1.422684131813844,1.7107920503043625,1.8208735442059336,0.3756592581529647,3.2687128514826282,-0.17466673834275787,-1.5487641563663748,1.6835911314576457,-1.6535424743594265,1.316438999843467,1.5000060886792144,-1.6207024970865482,0.5289598359321541,0.9688227902625333,-0.053075076709772316,0.8612097567656981,-0.3890700317655382,-0.4569981889407922,0.5305197675470257,2.074572512508215,-0.10678382389768085,1.101171126300304,-1.4081756168989525,0.6298681298840785,-0.6835735125743571,-0.6961320422341888,-0.17029631041826707,0.693939013456364,0.15627061834779268,-2.113039120376241,-1.8525541240477141,-0.31638669933705704,-0.6230310579570232,0.19115758538756472,1.1595074239707486,-2.27069816505396,-1.1679174577875657,-0.889323804244664,0.08073881605418348,-2.1847953605741615,-1.3054116705070633,1.53105684226623,2.0053147623225076,2.035607513420382,1.7378543682708134,2.182723449794306,2.4435594607024638,0.24644774956926072,-0.5981139942698381,0.39840177112237024,0.5195270069356156,-1.590979615203192,-0.023175547538717797,-0.7922656243725299,-2.060087983465048,0.873835580032977,0.8717628782855902,0.42912777719130846,-1.7525407411960354,-0.6399645935110033,0.45659181151279576,-0.7522087489476201,2.86128423442143,-1.0204070622411945,2.202407985923913,0.6515293716131308,1.0229405580138162,-0.61288507200175,0.5220181877521465,1.3364142335843028,1.2832711348200099,-0.36429490791675506,-1.1759515229955153,0.014760815874569282,1.459047930849014,-1.6588302178422667,1.1756354623485679,0.46095996645624543,1.319979049439675,0.4613894346357426,-1.3134097888173284,-1.2557426356163313,0.5531714688762006,0.9099023233380168,1.4067712999784534,-0.5961144175674089,-1.4215714887107018,0.4912011803494652,-0.3843879957521086,0.7691442452870461,-0.8583409629805925,-1.0511644610369475,2.703835483927818,-0.3866045241025502,0.4057541909673753,1.600016716506082,0.886690356180609,1.4294032810497959,0.8793980327969755,-0.5814297681869228,1.765080980286576,2.1090810444964783,3.0963961526675976,0.9440361094069294,-0.06451028926127633,-0.6851638742179214,2.0287153838106264,0.8128514008338384,0.8743790725344524,-1.1271026257052001,-1.7423877924258235,-1.3225215880187235,-1.2608156994235027,-2.632309757286354,1.890131755411213,-0.7776631873545428,0.6854800462318656,2.883162200286729,1.2099227608527054,0.9019862110880488,-1.6727936528712166,0.4606064881833734,-0.8774731810132903,0.14484195360870697,-0.7699773876974524,0.5944357555492445,-0.4005065275797225,-0.220615395240849,0.34081092921588607,-0.7277279237767745,1.5574929134837785,-1.7646474102103442,0.44891603106784317,-0.5176280498212008,0.26508864863801984,0.19436350578050335,-2.5473983893096284,0.9889716289033406,-1.3107475942483047,0.11332120393876885,0.9299938805787771,-0.34702013344665705,-2.640013738397895,-0.9940219543357919,-1.7111815883730483,-0.16657673964057487,-0.28660430069550996,-0.746318042222166,-0.9490368066176387,-2.069778988743164,3.0827046708862973,1.2783026678179412,-2.7342761320151423,0.8808909041268389,-1.9280148337648633,0.3302103368077651,-1.5702988598791783,0.8164832211704749,2.038098414897422,-0.889350702837123,-0.752461283309824,-1.203522153759693,-1.9195373517059477,1.1235171076077508,-1.7376183241377794,1.141332944911056,-0.8199557316845439,-1.7115969930568784,0.46278652395792236,2.067796203330416,-1.4664384371476575,1.5542792798760188,-1.0603019145804382,-2.785251853594307,-0.9030812777446495,0.2769748027558601,-0.29030075064019045,3.0297411251157116,-0.8382988396514484,-0.6286599264743477,1.7024479416370295,-1.8876475874966427,0.350084790515262,-1.4161674029164872,0.406623486737842,-1.465465658146767,-2.417899297335658,-0.33689235697476944,-1.4790172775665182,2.70988119107285,-0.18345561997566004,-1.8467037815337206,1.8262102573593715,-0.7808123400180624,-1.2017067160440544,2.446605606183291,0.004236756276688659,-0.7338784422379002,0.7602262190768868,-1.8207352827268664,-0.8618738154307249,-0.942023349486264,1.540841460041073,2.569104388478447,-1.6293870942701179,0.8274042306542821,-1.5022745615000899,0.04337218019634522,-0.17865906459570502,-1.0758687468412742,0.8867492472185668,-0.9059918036877257,-0.42758466217084723,0.26193866173931407,2.901946555779009,1.39042230367271,1.5360624485886236,-0.49153082566975415,1.7002782374303858,0.6937733492829772,0.9560551518364997,1.4156908697939696,0.40850056452020844,0.15147631114139007,1.83033230688406,3.228653363700673,-0.3532509564814321,1.1104285452547726,2.4016320282873687,2.837235751138501,-0.9014328062765259,-1.5738769678748974,2.4948692596571718,-1.7052967188957768,1.949913147163563,0.424207139264922,0.2684713930113961,-0.5308379396957985,-1.0528339866592453,0.17886120629163163,-1.8330269649841644,0.4865997682701884,0.4932245884491408,0.915735813491924,1.478365987142401,-2.237069782283485,-2.441417310890025,2.309908510103359,0.4034842166147322,-0.20377942562708334,-0.4558424633757492,-0.4886827988360817,-0.8309450058680767,-0.4603886077020389,0.49536501521408477,-1.0715499197558758,-1.7761219314077632,-2.032368945092075,1.5576394042716024,-2.181837193046156,0.029479258040674493,-0.4965474281072363,-0.24852033089233747,-0.3033420636206669,0.14974616118226428,0.9045840731912718,-1.0175655892159776,-0.1544503633692089,-0.1128358633354421,-0.22443509349677518,-0.23615027987917536,-1.0990509048982366,-1.271211789064015,-2.1001481818112375,1.8547895741864784,-0.4214507955782777,-1.155452783349753,-0.5818862196175152,0.40164509717434943,-0.041871055809320615,-1.1968536604674602,1.9058693008754855,-2.137341206773063,1.7284096500915398,-0.9522876643897241,-0.016363721493914428,0.5654612033236354,-0.8137345696744521,0.5436709148621041,-0.49453135723217545,-1.7609157687552024,0.08243763111025876,2.646305494878625,-0.2771269195275159,0.5838506864068431,-0.5552441738702284,-0.6610942059197648,0.5389903436060695,0.5361983291145909,-1.2171744107303824,0.668634500437419,-1.9621007307215788,-1.4089660160380972,0.48220483840523004,2.177246023250079,-2.2315276802995285,1.424400554431862,-0.49885165607970494,-1.2865433693534123,0.04214324354828019],\"y\":[0.6176214504164588,-0.45235729420520115,1.1845063908689346,0.22620269733432696,-0.5927837173079056,-0.7853753765847716,0.109112579340612,-0.46546507469968834,-0.8863833408425917,0.3141886857679356,-0.24055505861680873,0.5885477584596264,0.25226914100806064,0.061867753819397846,0.6130320994886407,-0.31829225512315595,0.35207845983352415,0.9420276595917564,1.729964440922629,-1.0084437783969695,1.3587688015830997,-1.229983794270338,0.048679031812772285,1.6108713913045647,-1.020133098231981,-0.8254559064600786,-0.7802846814611579,-0.3761645943232768,0.6589908640099916,-0.1426406956545264,-1.1243901564724623,0.1459715711736901,-0.4861767783643537,1.0917558320546796,0.3897924751015588,0.8788674779415576,0.5340798773129359,-1.0734444310077456,-0.24890829095742706,0.9840578118258425,0.48940192500354923,1.5248534910880456,-0.2578940140743791,-0.2417403546995883,0.004482225214056429,0.46569726019297536,0.30125640172297224,-0.6356230147266171,-0.43998414121640034,-1.052421250485424,-0.250848729591231,0.28239091589356985,-0.18808716609076342,-1.1233212683720224,-0.04134908031428444,-1.5751004862917326,-0.5007324603894989,0.4897584975495549,-2.3514785477868165,-1.4673878561557423,0.3677966130128328,0.017236609183731596,0.4049168970014861,0.5024668462409397,0.9467898365131887,0.8570768873123817,0.422966818295176,-0.7106109134086674,0.6451659708760925,1.395439378744981,0.92007097040814,0.8936024334396191,0.19924643379397275,1.1916425250900966,0.000540423359650303,-1.305453745959283,-0.3389220498409219,1.6139789850623323,0.18316119915719042,0.07763458788447752,-0.1661882712460166,0.16784756206242238,-0.5617387051729692,-0.04411334255089435,0.2114386204884736,-0.044691590406338556,-0.3975434562297684,1.4741687969498078,-0.19367336613644529,0.13491983832385135,-0.01565502671612313,-0.24205098292210264,0.4342558049986957,-0.3394930117484759,0.6732070588128607,-0.8658095683397863,-0.6050060939063117,-0.4595705636177799,0.16887217952997896,-1.3381404373350574,-0.9244355462414099,1.3303276665089712,-1.2794131363574535,0.040094629595178545,-0.30054402450743806,0.49399061782023346,0.6295616958748735,-0.5823128749578128,-0.6706568795737216,-0.2298387018270083,-0.06088936215051232,2.2097035955789734,1.0794191390548094,-1.009224293117211,0.9275713397555256,0.236781251895227,1.2916472250776818,1.0892348035639254,-0.0385831970138913,-1.2078216373855128,-0.4165671949546742,1.5285277247340168,-1.5941189292531446,0.7280049179988365,-1.12053781754532,-0.4017173412169397,2.7301408151554734,0.1763091411120941,0.22409651793102706,0.6236001304561963,0.9305321321488007,-0.2721765641283339,-1.0445991271508623,-0.8263283245091786,-0.35987753107828224,-1.2080530944257375,-1.228633881564178,-0.6424663315020405,-0.4819751528390962,-0.4307263678141042,-0.24291786650577715,0.7791967382225363,-0.07403670386792374,-0.11075333960437905,0.48144029017597906,0.49253745733512266,0.3714639989342868,0.038689830538871574,1.273970851851546,0.07400734798733433,-0.7920509327674253,-0.5180798230111086,-0.12306230795036766,1.488339708503498,-0.7653248321721927,-0.6862901045627138,0.7807964128756779,-0.28574220074771456,-0.06738483868537903,-0.4175518231424858,0.25641015815691587,-0.6164091346632644,-1.66925650675554,0.5545728151093973,1.168190648981634,0.44813239381288233,-0.3579960639061046,0.40419151512842955,1.067724292232874,-0.3487719041282744,-0.2497835523746006,0.8600641028191451,0.08009526586474883,-0.36902522693877243,-0.9261165435211286,0.3000601365868859,-0.8474681724319058,0.6225063933636668,0.32752226589704037,0.22508809792788576,1.0533879345514383,-0.19108039378342093,-0.43753351476023566,-0.9477407894154332,0.5733326495340841,-1.1327531603773133,0.23204800579757837,-0.39553900765937855,-0.24626510189199702,-0.27291648408452035,-0.7395095238430681,0.5775167882880679,0.39356172227460534,-0.6792924644610278,-0.6338669032810857,-0.36075044152972674,0.7678878521577528,0.4667691472037275,-0.031950529418876404,0.5514809111505667,-1.0863968665954515,0.7941969579056849,0.34666222476832953,-0.8560402101046115,-1.1339066470113384,0.4772624026264256,0.13719293113729036,-0.1266182106718796,0.04109396881149557,-0.2073632666300767,-1.0283721108103774,0.41459912710752994,0.31952448040416587,-0.39009586428172627,-2.0077866394533506,0.09240028131200148,-0.9246492628431575,0.5800159284022798,-0.42117618737783674,0.029689091585111772,-0.25236992918458756,1.1071685396930007,0.9428144883430163,-2.1503397174743877,0.7856781708374667,-0.8817471777589411,0.2552365289443739,0.16008170864218832,0.30390454041922793,-0.8735573719979183,-0.11779406453536284,0.23255735391581034,0.6951783019638101,-1.3242526288382328,-0.31941309676980306,-0.33090793556875386,-1.6887623319833882,0.5338956455615764,-0.46032024645736863,-0.9192541614041305,0.219322757857571,-1.9621286654839112,-0.12016513152463584,1.1999834267316918,-1.1716731348372018,1.6003694340760761,0.312354160886878,0.19089649620774443,-1.511672894696601,0.270633186002426,-0.9439574265316387,-0.8153527800657062,-0.3249423364963037,-1.6249279936233278,0.2784959890215853,0.30939893225635845,0.3089277809608579,0.26581215638577477,-0.5097123941714949,0.15862027892343356,0.4068172129404736,-1.8406107220851067,1.2400405557665273,0.1631541045207475,-0.2666437849112538,0.6006025063946114,-1.1096811610160868,-1.3580615837195997,0.0065134340331672955,0.7356173817149156,1.1266473848175795,0.6526866162170666,0.755400583491261,-0.11857776992546404,0.6297968186173735,0.025799619909239842,-0.6374570630895346,1.19728482213794,0.3469646980082827,-0.3130991785339989,1.41962540015655,-0.3658606887128177,1.6507531821201666,0.5782886628267793,0.624275461358849,-0.5459016583949806,0.4001980747358844,-0.6855904831766879,0.0333935722771367,0.4314514963401937,-1.8933384179156862,-1.643272572997692,-1.255212633971691,0.15057477426189655,-0.5430515621575531,-0.15613846159571462,0.4364395593357204,-0.23149616633690656,-0.6813911850042704,-0.5454303736844079,-0.3300802643872832,-0.1429894297117601,0.5561131784776293,-1.471133937024743,0.591955030550591,-0.5817189899302556,0.7939723835717479,-0.6468896894788848,0.4764268579744129,0.9498038562146683,0.3926170217422792,-0.02680593123087012,0.5253232354220507,-0.9842506660768399,0.6682478548503064,-0.8744450505868044,0.7860482715715696,-0.3155998604426804,1.0488303754605326,1.0774414477035408,-0.6817596646745903,1.1628602185867156,-1.314968288740823,0.899040070163453,0.00735683182261577,-0.5087237323299114,0.33928876490267396,-0.5741127068301232,1.2426942214497076,0.15797043303004996,-0.08382352698912054,2.0264972581332796,0.8596233173361055,0.3519584976787296,-1.3894659779559622,0.9402445064186954,0.02257436350470022,0.37151067767504875,0.5086598190361952,-0.0075586603939878875,-0.18910663768583438,0.7735379801826558,0.2291769138311682,0.06403076460891813,-0.8746512380234079,-0.2515246333346593,0.8894712874574146,1.6681924875677292,0.3560387966490007,1.159920360298164,0.14904852091997273,-0.14503882470443413,-0.4071309351567673],\"z\":[-0.30565790009317817,-0.23080247265937706,0.34916498727387635,0.17954199579401964,-0.3688139909791866,0.5073056657710907,0.09223665652617502,-0.454941116927788,0.7418252993174348,0.3147803947547251,-0.290671523801209,-0.24610125220269832,0.00523740093841581,0.7069523935941406,-1.0025075079362358,0.21149596218961256,-0.04566579691930382,-0.42410114533230936,-0.35309029130531905,-0.5809987599460643,0.99369081263887,-0.42890452739372437,-0.15815744538748727,-1.8169144816318217,0.10902450641531738,-0.8160857301022907,-0.4300269986617545,0.14788836170932554,0.2698441716168453,0.7144594434345526,-0.3193299114037588,0.573759777233299,-0.055539890996558566,1.2647026299617048,-0.0172418260876566,0.3506586786618992,-1.0492779180241023,0.028769394445905924,-0.0830264292182089,-0.4278879408857172,-0.591042244931857,0.3211685651906844,-0.01893917831743364,0.023560616171773397,-0.4588551821332571,1.128038896936127,-0.5081361513741518,0.24027935666894407,-0.27119588250680504,0.7482311219339581,1.7497228492045551,0.2103940007517252,-0.656602489535208,-0.012646225426774455,-0.10140455734752424,0.21841498243360155,-0.8502121559340936,-0.6707928262059825,-0.1825554696974889,-0.5047083677191607,0.19481164085214886,0.24932825952670146,2.1136489741708266,0.6440336324016993,-0.5283504661856153,0.5324350618242991,-0.23148214563238514,0.46259397601975905,-0.10771302543683031,-0.41247124432091015,-0.1335448320678381,-0.5130688874054198,-0.19300803146236137,0.7750659422434535,-1.1243137646132995,-1.0104681171268806,-0.27075975556032644,1.003651416121512,0.25444848481522125,-0.19101462033513478,0.12516780552536347,-0.36570228081765493,-1.0897067813776056,0.22681294181175707,-0.504768322222651,0.10754170451620136,-1.9955745727396434,1.4632438576664273,-0.1223758809146808,-0.30770590785873103,-0.9632583530021883,0.44145979619323433,0.012896463455930648,-1.3706074888482476,0.14428547184664092,-0.5062784043902321,-0.797709557338058,-0.47941653493388875,1.3147572289016554,-0.5215573504353657,-0.09623094772432958,-0.4821087730723849,1.9116227324171702,0.7689752459184352,-0.2183644966059758,-0.05841312605163683,-0.6479740085114002,-0.058683952346631735,-0.6453473519917784,-0.47692962451757825,1.9173452056114777,-0.6986528566893517,0.49208123334959136,0.44445722141541105,-1.0315004941847594,-0.3899158535972525,-0.2067729475191642,1.3068533063238486,-1.0669319870900742,1.1390838922031463,0.6651346809190426,-0.3035420813945355,-2.6352868998861023,-0.01759276441999609,-0.3826810745778701,0.3282297842271479,0.0035127782454186345,-0.7854593450414206,0.6650896091303092,-0.03786671901688539,-0.9985447414688625,-0.5819548910283577,1.4014499348563694,0.4589883193002272,-0.22294947496959588,-0.9503139858296741,0.04607851552859003,0.6737764649717645,0.7819348605475683,0.027583562576164466,-1.219858847795573,-0.24555288386571938,-0.04457259735485074,-0.3679771337796535,1.454786755826927,1.3286702954209972,1.1941868658156516,-0.8204301578890989,0.8109656053545795,-0.2533796913954636,-1.2437138595438102,0.7250996332459962,-0.15563732116631057,0.1798912041948026,-0.0012419040936577606,0.28590840971155895,0.21094363875538913,-1.8965080236758438,-0.6445086432158484,-0.2940740216706068,0.30827499659381924,-1.1759062573248262,0.10142445119933806,0.15802874095746605,-0.9056234034231102,0.1616417970010678,0.813727333233158,0.4222618826748017,0.5486783565250442,0.6965889740010893,-0.4277408867700805,0.29599578030426243,0.16340300561707014,0.7413648932089264,-0.20907140639036692,-0.08236304587639987,1.031524108302475,-0.6805642084412395,-0.5982353541122009,-0.2684072923161322,-0.27610401691131337,0.1996576399545552,-0.31209849260732647,-1.1278753473202312,0.5880540468971536,-0.3420231491592821,-0.11017029313786164,0.8771093540351618,-0.0756755027770667,-1.020261966647312,1.6160729568257186,0.09006214884220348,0.21702798674697976,-0.9923931706609953,0.6053180565229354,-0.3385320054529639,-1.096713711185939,0.16803727181984152,1.682000028549349,0.7414930609969594,0.049200617854949724,-0.08014424083624894,-0.022545514496891163,-0.6920406558790144,-0.18721320771905053,1.071511208746684,-0.5220536155607456,-0.7710374957063464,0.027716138937457422,-0.5797395385434523,-0.7759483990262771,0.22650077075141656,0.5737598257489,-0.6686529537788392,0.2998644601037002,0.5770834859465463,-0.1726687650472013,-0.12561694710464325,0.29250831304715214,0.04502053727919872,-0.9237302914182159,-0.01566144422779632,-0.18640776544348264,2.23865694373899,0.8739385519864635,-0.19828261884747186,-0.13576273012458723,-0.017593941204003608,-0.7715536397175436,0.16794136857614356,0.019415120278673006,0.567574077859129,0.7769670419905587,-0.33239582144141894,-0.7973813184819047,1.9076534819061786,-0.17313656787082052,-0.5173792742906843,-1.6156476146474434,1.2312468521863558,-0.196231116249544,0.5415395747328051,1.0771522585102133,0.6451900532281596,1.043489194018083,-0.6558756130408402,1.2088819544667153,1.0892515550270314,0.25529691566249574,-0.5154543091893952,1.250978247178485,-0.48549765580376275,-0.0684481695387785,0.6449708375195908,0.0523946986492132,0.11741352491216504,-0.3564694634217427,1.2636861002663478,0.05720897750740157,-0.16847905844212924,-0.18475612163485364,-0.4376196968307939,-0.4222097650475905,-0.5324300110190732,0.018560026930287955,-0.01590744085354188,0.46396939391011555,0.6899035678836722,0.2078417007203686,-0.33545179425064386,1.079320231545015,-0.6624160091418578,-0.23232203380128202,-0.29836312275361154,-0.12862662436509237,-0.18177399032632008,0.34871959698135674,-0.17530099395950532,-0.5869952385918631,-0.35002891681423726,-0.06272397111182378,-0.28453584181265257,0.057846347607101806,0.17130261456287343,-1.1230883978278625,-0.2592303412252351,-0.2511034758841011,-0.17504196825397447,-0.07575289177425899,-0.14341820492704893,1.2115152802763034,0.40783767147466515,-0.6198466444754631,0.10305226256446956,0.019473579131568032,1.3218776739156985,0.25633945804957947,-0.5821972576619219,-0.06995457319857479,-0.04094234263806991,1.8174068097050817,-1.8811496487141743,0.19068679618747184,1.19216191191252,0.6210934466699521,1.1153831496688225,0.4653874721077736,-0.12600146555464523,-0.4218979081549322,-0.1539567667978235,0.9368864497226725,-0.659455309701401,0.14095282225208589,0.0015833654530830604,-0.7821973202128376,0.12469001343875376,0.37453946728133997,-2.3646373581724403,-1.0874499876465331,0.12698665419462946,-0.20786541907671907,-0.28860644422523685,1.1014313267834897,0.6278181158438824,-0.035168847524533614,-0.34957668185339186,-0.5135807621516899,-0.7212202311588704,-0.0522011102050538,2.1830004672679237,0.5237113100406812,0.8984888087190075,-0.8684849885209636,0.17171722766460537,-0.8373145435058293,0.9890971699520293,0.06202914913305596,-0.18717567044556707,-1.209775976049848,-0.19656838886968434,-0.7190085974003024,0.7122337895775506,0.06146897756628428,-0.04939140852108742,-0.9402588499497472,-0.6552030226152591,-0.1332901643613883,-0.09402103974879257,-0.30734277224219336,0.1859109704335983,-0.1661574569743509,0.2303581425551936,0.5406463507448339],\"type\":\"scatter3d\"},{\"marker\":{\"color\":\"red\",\"size\":5},\"mode\":\"markers\",\"name\":\"Outliers\",\"x\":[],\"y\":[],\"z\":[],\"type\":\"scatter3d\"}],                        {\"template\":{\"data\":{\"histogram2dcontour\":[{\"type\":\"histogram2dcontour\",\"colorbar\":{\"outlinewidth\":0,\"ticks\":\"\"},\"colorscale\":[[0.0,\"#0d0887\"],[0.1111111111111111,\"#46039f\"],[0.2222222222222222,\"#7201a8\"],[0.3333333333333333,\"#9c179e\"],[0.4444444444444444,\"#bd3786\"],[0.5555555555555556,\"#d8576b\"],[0.6666666666666666,\"#ed7953\"],[0.7777777777777778,\"#fb9f3a\"],[0.8888888888888888,\"#fdca26\"],[1.0,\"#f0f921\"]]}],\"choropleth\":[{\"type\":\"choropleth\",\"colorbar\":{\"outlinewidth\":0,\"ticks\":\"\"}}],\"histogram2d\":[{\"type\":\"histogram2d\",\"colorbar\":{\"outlinewidth\":0,\"ticks\":\"\"},\"colorscale\":[[0.0,\"#0d0887\"],[0.1111111111111111,\"#46039f\"],[0.2222222222222222,\"#7201a8\"],[0.3333333333333333,\"#9c179e\"],[0.4444444444444444,\"#bd3786\"],[0.5555555555555556,\"#d8576b\"],[0.6666666666666666,\"#ed7953\"],[0.7777777777777778,\"#fb9f3a\"],[0.8888888888888888,\"#fdca26\"],[1.0,\"#f0f921\"]]}],\"heatmap\":[{\"type\":\"heatmap\",\"colorbar\":{\"outlinewidth\":0,\"ticks\":\"\"},\"colorscale\":[[0.0,\"#0d0887\"],[0.1111111111111111,\"#46039f\"],[0.2222222222222222,\"#7201a8\"],[0.3333333333333333,\"#9c179e\"],[0.4444444444444444,\"#bd3786\"],[0.5555555555555556,\"#d8576b\"],[0.6666666666666666,\"#ed7953\"],[0.7777777777777778,\"#fb9f3a\"],[0.8888888888888888,\"#fdca26\"],[1.0,\"#f0f921\"]]}],\"heatmapgl\":[{\"type\":\"heatmapgl\",\"colorbar\":{\"outlinewidth\":0,\"ticks\":\"\"},\"colorscale\":[[0.0,\"#0d0887\"],[0.1111111111111111,\"#46039f\"],[0.2222222222222222,\"#7201a8\"],[0.3333333333333333,\"#9c179e\"],[0.4444444444444444,\"#bd3786\"],[0.5555555555555556,\"#d8576b\"],[0.6666666666666666,\"#ed7953\"],[0.7777777777777778,\"#fb9f3a\"],[0.8888888888888888,\"#fdca26\"],[1.0,\"#f0f921\"]]}],\"contourcarpet\":[{\"type\":\"contourcarpet\",\"colorbar\":{\"outlinewidth\":0,\"ticks\":\"\"}}],\"contour\":[{\"type\":\"contour\",\"colorbar\":{\"outlinewidth\":0,\"ticks\":\"\"},\"colorscale\":[[0.0,\"#0d0887\"],[0.1111111111111111,\"#46039f\"],[0.2222222222222222,\"#7201a8\"],[0.3333333333333333,\"#9c179e\"],[0.4444444444444444,\"#bd3786\"],[0.5555555555555556,\"#d8576b\"],[0.6666666666666666,\"#ed7953\"],[0.7777777777777778,\"#fb9f3a\"],[0.8888888888888888,\"#fdca26\"],[1.0,\"#f0f921\"]]}],\"surface\":[{\"type\":\"surface\",\"colorbar\":{\"outlinewidth\":0,\"ticks\":\"\"},\"colorscale\":[[0.0,\"#0d0887\"],[0.1111111111111111,\"#46039f\"],[0.2222222222222222,\"#7201a8\"],[0.3333333333333333,\"#9c179e\"],[0.4444444444444444,\"#bd3786\"],[0.5555555555555556,\"#d8576b\"],[0.6666666666666666,\"#ed7953\"],[0.7777777777777778,\"#fb9f3a\"],[0.8888888888888888,\"#fdca26\"],[1.0,\"#f0f921\"]]}],\"mesh3d\":[{\"type\":\"mesh3d\",\"colorbar\":{\"outlinewidth\":0,\"ticks\":\"\"}}],\"scatter\":[{\"fillpattern\":{\"fillmode\":\"overlay\",\"size\":10,\"solidity\":0.2},\"type\":\"scatter\"}],\"parcoords\":[{\"type\":\"parcoords\",\"line\":{\"colorbar\":{\"outlinewidth\":0,\"ticks\":\"\"}}}],\"scatterpolargl\":[{\"type\":\"scatterpolargl\",\"marker\":{\"colorbar\":{\"outlinewidth\":0,\"ticks\":\"\"}}}],\"bar\":[{\"error_x\":{\"color\":\"#2a3f5f\"},\"error_y\":{\"color\":\"#2a3f5f\"},\"marker\":{\"line\":{\"color\":\"#E5ECF6\",\"width\":0.5},\"pattern\":{\"fillmode\":\"overlay\",\"size\":10,\"solidity\":0.2}},\"type\":\"bar\"}],\"scattergeo\":[{\"type\":\"scattergeo\",\"marker\":{\"colorbar\":{\"outlinewidth\":0,\"ticks\":\"\"}}}],\"scatterpolar\":[{\"type\":\"scatterpolar\",\"marker\":{\"colorbar\":{\"outlinewidth\":0,\"ticks\":\"\"}}}],\"histogram\":[{\"marker\":{\"pattern\":{\"fillmode\":\"overlay\",\"size\":10,\"solidity\":0.2}},\"type\":\"histogram\"}],\"scattergl\":[{\"type\":\"scattergl\",\"marker\":{\"colorbar\":{\"outlinewidth\":0,\"ticks\":\"\"}}}],\"scatter3d\":[{\"type\":\"scatter3d\",\"line\":{\"colorbar\":{\"outlinewidth\":0,\"ticks\":\"\"}},\"marker\":{\"colorbar\":{\"outlinewidth\":0,\"ticks\":\"\"}}}],\"scattermapbox\":[{\"type\":\"scattermapbox\",\"marker\":{\"colorbar\":{\"outlinewidth\":0,\"ticks\":\"\"}}}],\"scatterternary\":[{\"type\":\"scatterternary\",\"marker\":{\"colorbar\":{\"outlinewidth\":0,\"ticks\":\"\"}}}],\"scattercarpet\":[{\"type\":\"scattercarpet\",\"marker\":{\"colorbar\":{\"outlinewidth\":0,\"ticks\":\"\"}}}],\"carpet\":[{\"aaxis\":{\"endlinecolor\":\"#2a3f5f\",\"gridcolor\":\"white\",\"linecolor\":\"white\",\"minorgridcolor\":\"white\",\"startlinecolor\":\"#2a3f5f\"},\"baxis\":{\"endlinecolor\":\"#2a3f5f\",\"gridcolor\":\"white\",\"linecolor\":\"white\",\"minorgridcolor\":\"white\",\"startlinecolor\":\"#2a3f5f\"},\"type\":\"carpet\"}],\"table\":[{\"cells\":{\"fill\":{\"color\":\"#EBF0F8\"},\"line\":{\"color\":\"white\"}},\"header\":{\"fill\":{\"color\":\"#C8D4E3\"},\"line\":{\"color\":\"white\"}},\"type\":\"table\"}],\"barpolar\":[{\"marker\":{\"line\":{\"color\":\"#E5ECF6\",\"width\":0.5},\"pattern\":{\"fillmode\":\"overlay\",\"size\":10,\"solidity\":0.2}},\"type\":\"barpolar\"}],\"pie\":[{\"automargin\":true,\"type\":\"pie\"}]},\"layout\":{\"autotypenumbers\":\"strict\",\"colorway\":[\"#636efa\",\"#EF553B\",\"#00cc96\",\"#ab63fa\",\"#FFA15A\",\"#19d3f3\",\"#FF6692\",\"#B6E880\",\"#FF97FF\",\"#FECB52\"],\"font\":{\"color\":\"#2a3f5f\"},\"hovermode\":\"closest\",\"hoverlabel\":{\"align\":\"left\"},\"paper_bgcolor\":\"white\",\"plot_bgcolor\":\"#E5ECF6\",\"polar\":{\"bgcolor\":\"#E5ECF6\",\"angularaxis\":{\"gridcolor\":\"white\",\"linecolor\":\"white\",\"ticks\":\"\"},\"radialaxis\":{\"gridcolor\":\"white\",\"linecolor\":\"white\",\"ticks\":\"\"}},\"ternary\":{\"bgcolor\":\"#E5ECF6\",\"aaxis\":{\"gridcolor\":\"white\",\"linecolor\":\"white\",\"ticks\":\"\"},\"baxis\":{\"gridcolor\":\"white\",\"linecolor\":\"white\",\"ticks\":\"\"},\"caxis\":{\"gridcolor\":\"white\",\"linecolor\":\"white\",\"ticks\":\"\"}},\"coloraxis\":{\"colorbar\":{\"outlinewidth\":0,\"ticks\":\"\"}},\"colorscale\":{\"sequential\":[[0.0,\"#0d0887\"],[0.1111111111111111,\"#46039f\"],[0.2222222222222222,\"#7201a8\"],[0.3333333333333333,\"#9c179e\"],[0.4444444444444444,\"#bd3786\"],[0.5555555555555556,\"#d8576b\"],[0.6666666666666666,\"#ed7953\"],[0.7777777777777778,\"#fb9f3a\"],[0.8888888888888888,\"#fdca26\"],[1.0,\"#f0f921\"]],\"sequentialminus\":[[0.0,\"#0d0887\"],[0.1111111111111111,\"#46039f\"],[0.2222222222222222,\"#7201a8\"],[0.3333333333333333,\"#9c179e\"],[0.4444444444444444,\"#bd3786\"],[0.5555555555555556,\"#d8576b\"],[0.6666666666666666,\"#ed7953\"],[0.7777777777777778,\"#fb9f3a\"],[0.8888888888888888,\"#fdca26\"],[1.0,\"#f0f921\"]],\"diverging\":[[0,\"#8e0152\"],[0.1,\"#c51b7d\"],[0.2,\"#de77ae\"],[0.3,\"#f1b6da\"],[0.4,\"#fde0ef\"],[0.5,\"#f7f7f7\"],[0.6,\"#e6f5d0\"],[0.7,\"#b8e186\"],[0.8,\"#7fbc41\"],[0.9,\"#4d9221\"],[1,\"#276419\"]]},\"xaxis\":{\"gridcolor\":\"white\",\"linecolor\":\"white\",\"ticks\":\"\",\"title\":{\"standoff\":15},\"zerolinecolor\":\"white\",\"automargin\":true,\"zerolinewidth\":2},\"yaxis\":{\"gridcolor\":\"white\",\"linecolor\":\"white\",\"ticks\":\"\",\"title\":{\"standoff\":15},\"zerolinecolor\":\"white\",\"automargin\":true,\"zerolinewidth\":2},\"scene\":{\"xaxis\":{\"backgroundcolor\":\"#E5ECF6\",\"gridcolor\":\"white\",\"linecolor\":\"white\",\"showbackground\":true,\"ticks\":\"\",\"zerolinecolor\":\"white\",\"gridwidth\":2},\"yaxis\":{\"backgroundcolor\":\"#E5ECF6\",\"gridcolor\":\"white\",\"linecolor\":\"white\",\"showbackground\":true,\"ticks\":\"\",\"zerolinecolor\":\"white\",\"gridwidth\":2},\"zaxis\":{\"backgroundcolor\":\"#E5ECF6\",\"gridcolor\":\"white\",\"linecolor\":\"white\",\"showbackground\":true,\"ticks\":\"\",\"zerolinecolor\":\"white\",\"gridwidth\":2}},\"shapedefaults\":{\"line\":{\"color\":\"#2a3f5f\"}},\"annotationdefaults\":{\"arrowcolor\":\"#2a3f5f\",\"arrowhead\":0,\"arrowwidth\":1},\"geo\":{\"bgcolor\":\"white\",\"landcolor\":\"#E5ECF6\",\"subunitcolor\":\"white\",\"showland\":true,\"showlakes\":true,\"lakecolor\":\"white\"},\"title\":{\"x\":0.05},\"mapbox\":{\"style\":\"light\"}}},\"scene\":{\"domain\":{\"x\":[0.0,1.0],\"y\":[0.0,1.0]},\"xaxis\":{\"title\":{\"text\":\"PCA Component 1\"}},\"yaxis\":{\"title\":{\"text\":\"PCA Component 2\"}},\"zaxis\":{\"title\":{\"text\":\"PCA Component 3\"}}},\"coloraxis\":{\"colorbar\":{\"title\":{\"text\":\"Diabetes\"}},\"colorscale\":[[0.0,\"#0d0887\"],[0.1111111111111111,\"#46039f\"],[0.2222222222222222,\"#7201a8\"],[0.3333333333333333,\"#9c179e\"],[0.4444444444444444,\"#bd3786\"],[0.5555555555555556,\"#d8576b\"],[0.6666666666666666,\"#ed7953\"],[0.7777777777777778,\"#fb9f3a\"],[0.8888888888888888,\"#fdca26\"],[1.0,\"#f0f921\"]]},\"legend\":{\"tracegroupgap\":0,\"font\":{\"family\":\"sans-serif\",\"size\":12,\"color\":\"black\"},\"x\":0,\"y\":1,\"traceorder\":\"normal\",\"bgcolor\":\"LightSteelBlue\",\"bordercolor\":\"Black\",\"borderwidth\":2},\"title\":{\"text\":\"PCA of Diabetes Dataset\"},\"margin\":{\"l\":0,\"r\":0,\"b\":0,\"t\":40}},                        {\"responsive\": true}                    ).then(function(){\n",
       "                            \n",
       "var gd = document.getElementById('711b21e4-2858-4aea-be5a-81c924767b2f');\n",
       "var x = new MutationObserver(function (mutations, observer) {{\n",
       "        var display = window.getComputedStyle(gd).display;\n",
       "        if (!display || display === 'none') {{\n",
       "            console.log([gd, 'removed!']);\n",
       "            Plotly.purge(gd);\n",
       "            observer.disconnect();\n",
       "        }}\n",
       "}});\n",
       "\n",
       "// Listen for the removal of the full notebook cells\n",
       "var notebookContainer = gd.closest('#notebook-container');\n",
       "if (notebookContainer) {{\n",
       "    x.observe(notebookContainer, {childList: true});\n",
       "}}\n",
       "\n",
       "// Listen for the clearing of the current output cell\n",
       "var outputEl = gd.closest('.output');\n",
       "if (outputEl) {{\n",
       "    x.observe(outputEl, {childList: true});\n",
       "}}\n",
       "\n",
       "                        })                };                });            </script>        </div>"
      ]
     },
     "metadata": {},
     "output_type": "display_data"
    }
   ],
   "source": [
    "import plotly.express as px\n",
    "import plotly.graph_objects as go\n",
    "\n",
    "# Apply PCA to reduce dimensionality to 3 components for visualization\n",
    "pca = PCA(n_components=3)\n",
    "X_pca = pca.fit_transform(X_train)\n",
    "\n",
    "# DataFrame with the transformed data and labels\n",
    "df_pca = pd.DataFrame(X_pca, columns=['PCA1', 'PCA2', 'PCA3'])\n",
    "df_pca['class'] = y_train\n",
    "df_pca['outlier'] = 'Normal'\n",
    "df_pca.loc[index_filter, 'outlier'] = 'Outlier'\n",
    "\n",
    "# Scatter plot of the original dataset\n",
    "fig = px.scatter_3d(df_pca, x='PCA1', y='PCA2', z='PCA3', color='class',\n",
    "                    title='PCA of Diabetes Dataset',\n",
    "                    labels={'class': 'Diabetes'},\n",
    "                    opacity=0.7)\n",
    "\n",
    "# Highlight the points that were filtered (detected outliers)\n",
    "fig.add_trace(go.Scatter3d(\n",
    "    x=df_pca.loc[df_pca['outlier'] == 'Outlier', 'PCA1'],\n",
    "    y=df_pca.loc[df_pca['outlier'] == 'Outlier', 'PCA2'],\n",
    "    z=df_pca.loc[df_pca['outlier'] == 'Outlier', 'PCA3'],\n",
    "    mode='markers',\n",
    "    marker=dict(size=5, color='red'),\n",
    "    name='Outliers'\n",
    "))\n",
    "\n",
    "# Update the chart design\n",
    "fig.update_layout(scene=dict(\n",
    "    xaxis_title='PCA Component 1',\n",
    "    yaxis_title='PCA Component 2',\n",
    "    zaxis_title='PCA Component 3'),\n",
    "    margin=dict(l=0, r=0, b=0, t=40),\n",
    "    legend=dict(\n",
    "        x=0,\n",
    "        y=1,\n",
    "        traceorder=\"normal\",\n",
    "        font=dict(\n",
    "            family=\"sans-serif\",\n",
    "            size=12,\n",
    "            color=\"black\"\n",
    "        ),\n",
    "        bgcolor=\"LightSteelBlue\",\n",
    "        bordercolor=\"Black\",\n",
    "        borderwidth=2\n",
    "    )\n",
    ")\n",
    "\n",
    "fig.show()"
   ]
  },
  {
   "cell_type": "code",
   "execution_count": null,
   "metadata": {},
   "outputs": [],
   "source": []
  }
 ],
 "metadata": {
  "kernelspec": {
   "display_name": "Python 3 (ipykernel)",
   "language": "python",
   "name": "python3"
  },
  "language_info": {
   "codemirror_mode": {
    "name": "ipython",
    "version": 3
   },
   "file_extension": ".py",
   "mimetype": "text/x-python",
   "name": "python",
   "nbconvert_exporter": "python",
   "pygments_lexer": "ipython3",
   "version": "3.10.14"
  }
 },
 "nbformat": 4,
 "nbformat_minor": 4
}
